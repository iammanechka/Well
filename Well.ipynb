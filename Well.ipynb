{
 "cells": [
  {
   "cell_type": "markdown",
   "metadata": {},
   "source": [
    "# Выбор локации для скважины"
   ]
  },
  {
   "cell_type": "markdown",
   "metadata": {},
   "source": [
    "Допустим, вы работаете в добывающей компании «ГлавРосГосНефть». Нужно решить, где бурить новую скважину.\n",
    "\n",
    "Вам предоставлены пробы нефти в трёх регионах: в каждом 10 000 месторождений, где измерили качество нефти и объём её запасов. Постройте модель машинного обучения, которая поможет определить регион, где добыча принесёт наибольшую прибыль. Проанализируйте возможную прибыль и риски техникой *Bootstrap.*\n",
    "\n",
    "Шаги для выбора локации:\n",
    "\n",
    "- В избранном регионе ищут месторождения, для каждого определяют значения признаков;\n",
    "- Строят модель и оценивают объём запасов;\n",
    "- Выбирают месторождения с самым высокими оценками значений. Количество месторождений зависит от бюджета компании и стоимости разработки одной скважины;\n",
    "- Прибыль равна суммарной прибыли отобранных месторождений."
   ]
  },
  {
   "cell_type": "markdown",
   "metadata": {},
   "source": [
    "## Загрузка и подготовка данных"
   ]
  },
  {
   "cell_type": "code",
   "execution_count": 1,
   "metadata": {},
   "outputs": [],
   "source": [
    "import pandas as pd\n",
    "import numpy as np\n",
    "import matplotlib.pyplot as plt\n",
    "from sklearn.linear_model import LinearRegression\n",
    "from sklearn.model_selection import train_test_split \n",
    "from sklearn.metrics import mean_squared_error\n",
    "RANDOM_STATE=12345"
   ]
  },
  {
   "cell_type": "code",
   "execution_count": 2,
   "metadata": {},
   "outputs": [],
   "source": [
    "#Загружаем данные\n",
    "\n",
    "data_0 = pd.read_csv('/datasets/geo_data_0.csv')\n",
    "\n",
    "data_1 = pd.read_csv('/datasets/geo_data_1.csv')\n",
    "\n",
    "data_2 = pd.read_csv('/datasets/geo_data_2.csv')"
   ]
  },
  {
   "cell_type": "code",
   "execution_count": 3,
   "metadata": {},
   "outputs": [],
   "source": [
    "#Напишем функцию, которая предоставит нам полную информацию о данных\n",
    "\n",
    "def study(data): \n",
    "    info = display(data.head(10)), data.info(), display(data.describe())"
   ]
  },
  {
   "cell_type": "code",
   "execution_count": 4,
   "metadata": {},
   "outputs": [
    {
     "data": {
      "text/html": [
       "<div>\n",
       "<style scoped>\n",
       "    .dataframe tbody tr th:only-of-type {\n",
       "        vertical-align: middle;\n",
       "    }\n",
       "\n",
       "    .dataframe tbody tr th {\n",
       "        vertical-align: top;\n",
       "    }\n",
       "\n",
       "    .dataframe thead th {\n",
       "        text-align: right;\n",
       "    }\n",
       "</style>\n",
       "<table border=\"1\" class=\"dataframe\">\n",
       "  <thead>\n",
       "    <tr style=\"text-align: right;\">\n",
       "      <th></th>\n",
       "      <th>id</th>\n",
       "      <th>f0</th>\n",
       "      <th>f1</th>\n",
       "      <th>f2</th>\n",
       "      <th>product</th>\n",
       "    </tr>\n",
       "  </thead>\n",
       "  <tbody>\n",
       "    <tr>\n",
       "      <th>0</th>\n",
       "      <td>txEyH</td>\n",
       "      <td>0.705745</td>\n",
       "      <td>-0.497823</td>\n",
       "      <td>1.221170</td>\n",
       "      <td>105.280062</td>\n",
       "    </tr>\n",
       "    <tr>\n",
       "      <th>1</th>\n",
       "      <td>2acmU</td>\n",
       "      <td>1.334711</td>\n",
       "      <td>-0.340164</td>\n",
       "      <td>4.365080</td>\n",
       "      <td>73.037750</td>\n",
       "    </tr>\n",
       "    <tr>\n",
       "      <th>2</th>\n",
       "      <td>409Wp</td>\n",
       "      <td>1.022732</td>\n",
       "      <td>0.151990</td>\n",
       "      <td>1.419926</td>\n",
       "      <td>85.265647</td>\n",
       "    </tr>\n",
       "    <tr>\n",
       "      <th>3</th>\n",
       "      <td>iJLyR</td>\n",
       "      <td>-0.032172</td>\n",
       "      <td>0.139033</td>\n",
       "      <td>2.978566</td>\n",
       "      <td>168.620776</td>\n",
       "    </tr>\n",
       "    <tr>\n",
       "      <th>4</th>\n",
       "      <td>Xdl7t</td>\n",
       "      <td>1.988431</td>\n",
       "      <td>0.155413</td>\n",
       "      <td>4.751769</td>\n",
       "      <td>154.036647</td>\n",
       "    </tr>\n",
       "    <tr>\n",
       "      <th>5</th>\n",
       "      <td>wX4Hy</td>\n",
       "      <td>0.969570</td>\n",
       "      <td>0.489775</td>\n",
       "      <td>-0.735383</td>\n",
       "      <td>64.741541</td>\n",
       "    </tr>\n",
       "    <tr>\n",
       "      <th>6</th>\n",
       "      <td>tL6pL</td>\n",
       "      <td>0.645075</td>\n",
       "      <td>0.530656</td>\n",
       "      <td>1.780266</td>\n",
       "      <td>49.055285</td>\n",
       "    </tr>\n",
       "    <tr>\n",
       "      <th>7</th>\n",
       "      <td>BYPU6</td>\n",
       "      <td>-0.400648</td>\n",
       "      <td>0.808337</td>\n",
       "      <td>-5.624670</td>\n",
       "      <td>72.943292</td>\n",
       "    </tr>\n",
       "    <tr>\n",
       "      <th>8</th>\n",
       "      <td>j9Oui</td>\n",
       "      <td>0.643105</td>\n",
       "      <td>-0.551583</td>\n",
       "      <td>2.372141</td>\n",
       "      <td>113.356160</td>\n",
       "    </tr>\n",
       "    <tr>\n",
       "      <th>9</th>\n",
       "      <td>OLuZU</td>\n",
       "      <td>2.173381</td>\n",
       "      <td>0.563698</td>\n",
       "      <td>9.441852</td>\n",
       "      <td>127.910945</td>\n",
       "    </tr>\n",
       "  </tbody>\n",
       "</table>\n",
       "</div>"
      ],
      "text/plain": [
       "      id        f0        f1        f2     product\n",
       "0  txEyH  0.705745 -0.497823  1.221170  105.280062\n",
       "1  2acmU  1.334711 -0.340164  4.365080   73.037750\n",
       "2  409Wp  1.022732  0.151990  1.419926   85.265647\n",
       "3  iJLyR -0.032172  0.139033  2.978566  168.620776\n",
       "4  Xdl7t  1.988431  0.155413  4.751769  154.036647\n",
       "5  wX4Hy  0.969570  0.489775 -0.735383   64.741541\n",
       "6  tL6pL  0.645075  0.530656  1.780266   49.055285\n",
       "7  BYPU6 -0.400648  0.808337 -5.624670   72.943292\n",
       "8  j9Oui  0.643105 -0.551583  2.372141  113.356160\n",
       "9  OLuZU  2.173381  0.563698  9.441852  127.910945"
      ]
     },
     "metadata": {},
     "output_type": "display_data"
    },
    {
     "name": "stdout",
     "output_type": "stream",
     "text": [
      "<class 'pandas.core.frame.DataFrame'>\n",
      "RangeIndex: 100000 entries, 0 to 99999\n",
      "Data columns (total 5 columns):\n",
      " #   Column   Non-Null Count   Dtype  \n",
      "---  ------   --------------   -----  \n",
      " 0   id       100000 non-null  object \n",
      " 1   f0       100000 non-null  float64\n",
      " 2   f1       100000 non-null  float64\n",
      " 3   f2       100000 non-null  float64\n",
      " 4   product  100000 non-null  float64\n",
      "dtypes: float64(4), object(1)\n",
      "memory usage: 3.8+ MB\n"
     ]
    },
    {
     "data": {
      "text/html": [
       "<div>\n",
       "<style scoped>\n",
       "    .dataframe tbody tr th:only-of-type {\n",
       "        vertical-align: middle;\n",
       "    }\n",
       "\n",
       "    .dataframe tbody tr th {\n",
       "        vertical-align: top;\n",
       "    }\n",
       "\n",
       "    .dataframe thead th {\n",
       "        text-align: right;\n",
       "    }\n",
       "</style>\n",
       "<table border=\"1\" class=\"dataframe\">\n",
       "  <thead>\n",
       "    <tr style=\"text-align: right;\">\n",
       "      <th></th>\n",
       "      <th>f0</th>\n",
       "      <th>f1</th>\n",
       "      <th>f2</th>\n",
       "      <th>product</th>\n",
       "    </tr>\n",
       "  </thead>\n",
       "  <tbody>\n",
       "    <tr>\n",
       "      <th>count</th>\n",
       "      <td>100000.000000</td>\n",
       "      <td>100000.000000</td>\n",
       "      <td>100000.000000</td>\n",
       "      <td>100000.000000</td>\n",
       "    </tr>\n",
       "    <tr>\n",
       "      <th>mean</th>\n",
       "      <td>0.500419</td>\n",
       "      <td>0.250143</td>\n",
       "      <td>2.502647</td>\n",
       "      <td>92.500000</td>\n",
       "    </tr>\n",
       "    <tr>\n",
       "      <th>std</th>\n",
       "      <td>0.871832</td>\n",
       "      <td>0.504433</td>\n",
       "      <td>3.248248</td>\n",
       "      <td>44.288691</td>\n",
       "    </tr>\n",
       "    <tr>\n",
       "      <th>min</th>\n",
       "      <td>-1.408605</td>\n",
       "      <td>-0.848218</td>\n",
       "      <td>-12.088328</td>\n",
       "      <td>0.000000</td>\n",
       "    </tr>\n",
       "    <tr>\n",
       "      <th>25%</th>\n",
       "      <td>-0.072580</td>\n",
       "      <td>-0.200881</td>\n",
       "      <td>0.287748</td>\n",
       "      <td>56.497507</td>\n",
       "    </tr>\n",
       "    <tr>\n",
       "      <th>50%</th>\n",
       "      <td>0.502360</td>\n",
       "      <td>0.250252</td>\n",
       "      <td>2.515969</td>\n",
       "      <td>91.849972</td>\n",
       "    </tr>\n",
       "    <tr>\n",
       "      <th>75%</th>\n",
       "      <td>1.073581</td>\n",
       "      <td>0.700646</td>\n",
       "      <td>4.715088</td>\n",
       "      <td>128.564089</td>\n",
       "    </tr>\n",
       "    <tr>\n",
       "      <th>max</th>\n",
       "      <td>2.362331</td>\n",
       "      <td>1.343769</td>\n",
       "      <td>16.003790</td>\n",
       "      <td>185.364347</td>\n",
       "    </tr>\n",
       "  </tbody>\n",
       "</table>\n",
       "</div>"
      ],
      "text/plain": [
       "                  f0             f1             f2        product\n",
       "count  100000.000000  100000.000000  100000.000000  100000.000000\n",
       "mean        0.500419       0.250143       2.502647      92.500000\n",
       "std         0.871832       0.504433       3.248248      44.288691\n",
       "min        -1.408605      -0.848218     -12.088328       0.000000\n",
       "25%        -0.072580      -0.200881       0.287748      56.497507\n",
       "50%         0.502360       0.250252       2.515969      91.849972\n",
       "75%         1.073581       0.700646       4.715088     128.564089\n",
       "max         2.362331       1.343769      16.003790     185.364347"
      ]
     },
     "metadata": {},
     "output_type": "display_data"
    }
   ],
   "source": [
    "#Делаем вызов функции\n",
    "\n",
    "study(data_0)"
   ]
  },
  {
   "cell_type": "code",
   "execution_count": 5,
   "metadata": {},
   "outputs": [
    {
     "data": {
      "text/html": [
       "<div>\n",
       "<style scoped>\n",
       "    .dataframe tbody tr th:only-of-type {\n",
       "        vertical-align: middle;\n",
       "    }\n",
       "\n",
       "    .dataframe tbody tr th {\n",
       "        vertical-align: top;\n",
       "    }\n",
       "\n",
       "    .dataframe thead th {\n",
       "        text-align: right;\n",
       "    }\n",
       "</style>\n",
       "<table border=\"1\" class=\"dataframe\">\n",
       "  <thead>\n",
       "    <tr style=\"text-align: right;\">\n",
       "      <th></th>\n",
       "      <th>id</th>\n",
       "      <th>f0</th>\n",
       "      <th>f1</th>\n",
       "      <th>f2</th>\n",
       "      <th>product</th>\n",
       "    </tr>\n",
       "  </thead>\n",
       "  <tbody>\n",
       "    <tr>\n",
       "      <th>0</th>\n",
       "      <td>kBEdx</td>\n",
       "      <td>-15.001348</td>\n",
       "      <td>-8.276000</td>\n",
       "      <td>-0.005876</td>\n",
       "      <td>3.179103</td>\n",
       "    </tr>\n",
       "    <tr>\n",
       "      <th>1</th>\n",
       "      <td>62mP7</td>\n",
       "      <td>14.272088</td>\n",
       "      <td>-3.475083</td>\n",
       "      <td>0.999183</td>\n",
       "      <td>26.953261</td>\n",
       "    </tr>\n",
       "    <tr>\n",
       "      <th>2</th>\n",
       "      <td>vyE1P</td>\n",
       "      <td>6.263187</td>\n",
       "      <td>-5.948386</td>\n",
       "      <td>5.001160</td>\n",
       "      <td>134.766305</td>\n",
       "    </tr>\n",
       "    <tr>\n",
       "      <th>3</th>\n",
       "      <td>KcrkZ</td>\n",
       "      <td>-13.081196</td>\n",
       "      <td>-11.506057</td>\n",
       "      <td>4.999415</td>\n",
       "      <td>137.945408</td>\n",
       "    </tr>\n",
       "    <tr>\n",
       "      <th>4</th>\n",
       "      <td>AHL4O</td>\n",
       "      <td>12.702195</td>\n",
       "      <td>-8.147433</td>\n",
       "      <td>5.004363</td>\n",
       "      <td>134.766305</td>\n",
       "    </tr>\n",
       "    <tr>\n",
       "      <th>5</th>\n",
       "      <td>HHckp</td>\n",
       "      <td>-3.327590</td>\n",
       "      <td>-2.205276</td>\n",
       "      <td>3.003647</td>\n",
       "      <td>84.038886</td>\n",
       "    </tr>\n",
       "    <tr>\n",
       "      <th>6</th>\n",
       "      <td>h5Ujo</td>\n",
       "      <td>-11.142655</td>\n",
       "      <td>-10.133399</td>\n",
       "      <td>4.002382</td>\n",
       "      <td>110.992147</td>\n",
       "    </tr>\n",
       "    <tr>\n",
       "      <th>7</th>\n",
       "      <td>muH9x</td>\n",
       "      <td>4.234715</td>\n",
       "      <td>-0.001354</td>\n",
       "      <td>2.004588</td>\n",
       "      <td>53.906522</td>\n",
       "    </tr>\n",
       "    <tr>\n",
       "      <th>8</th>\n",
       "      <td>YiRkx</td>\n",
       "      <td>13.355129</td>\n",
       "      <td>-0.332068</td>\n",
       "      <td>4.998647</td>\n",
       "      <td>134.766305</td>\n",
       "    </tr>\n",
       "    <tr>\n",
       "      <th>9</th>\n",
       "      <td>jG6Gi</td>\n",
       "      <td>1.069227</td>\n",
       "      <td>-11.025667</td>\n",
       "      <td>4.997844</td>\n",
       "      <td>137.945408</td>\n",
       "    </tr>\n",
       "  </tbody>\n",
       "</table>\n",
       "</div>"
      ],
      "text/plain": [
       "      id         f0         f1        f2     product\n",
       "0  kBEdx -15.001348  -8.276000 -0.005876    3.179103\n",
       "1  62mP7  14.272088  -3.475083  0.999183   26.953261\n",
       "2  vyE1P   6.263187  -5.948386  5.001160  134.766305\n",
       "3  KcrkZ -13.081196 -11.506057  4.999415  137.945408\n",
       "4  AHL4O  12.702195  -8.147433  5.004363  134.766305\n",
       "5  HHckp  -3.327590  -2.205276  3.003647   84.038886\n",
       "6  h5Ujo -11.142655 -10.133399  4.002382  110.992147\n",
       "7  muH9x   4.234715  -0.001354  2.004588   53.906522\n",
       "8  YiRkx  13.355129  -0.332068  4.998647  134.766305\n",
       "9  jG6Gi   1.069227 -11.025667  4.997844  137.945408"
      ]
     },
     "metadata": {},
     "output_type": "display_data"
    },
    {
     "name": "stdout",
     "output_type": "stream",
     "text": [
      "<class 'pandas.core.frame.DataFrame'>\n",
      "RangeIndex: 100000 entries, 0 to 99999\n",
      "Data columns (total 5 columns):\n",
      " #   Column   Non-Null Count   Dtype  \n",
      "---  ------   --------------   -----  \n",
      " 0   id       100000 non-null  object \n",
      " 1   f0       100000 non-null  float64\n",
      " 2   f1       100000 non-null  float64\n",
      " 3   f2       100000 non-null  float64\n",
      " 4   product  100000 non-null  float64\n",
      "dtypes: float64(4), object(1)\n",
      "memory usage: 3.8+ MB\n"
     ]
    },
    {
     "data": {
      "text/html": [
       "<div>\n",
       "<style scoped>\n",
       "    .dataframe tbody tr th:only-of-type {\n",
       "        vertical-align: middle;\n",
       "    }\n",
       "\n",
       "    .dataframe tbody tr th {\n",
       "        vertical-align: top;\n",
       "    }\n",
       "\n",
       "    .dataframe thead th {\n",
       "        text-align: right;\n",
       "    }\n",
       "</style>\n",
       "<table border=\"1\" class=\"dataframe\">\n",
       "  <thead>\n",
       "    <tr style=\"text-align: right;\">\n",
       "      <th></th>\n",
       "      <th>f0</th>\n",
       "      <th>f1</th>\n",
       "      <th>f2</th>\n",
       "      <th>product</th>\n",
       "    </tr>\n",
       "  </thead>\n",
       "  <tbody>\n",
       "    <tr>\n",
       "      <th>count</th>\n",
       "      <td>100000.000000</td>\n",
       "      <td>100000.000000</td>\n",
       "      <td>100000.000000</td>\n",
       "      <td>100000.000000</td>\n",
       "    </tr>\n",
       "    <tr>\n",
       "      <th>mean</th>\n",
       "      <td>1.141296</td>\n",
       "      <td>-4.796579</td>\n",
       "      <td>2.494541</td>\n",
       "      <td>68.825000</td>\n",
       "    </tr>\n",
       "    <tr>\n",
       "      <th>std</th>\n",
       "      <td>8.965932</td>\n",
       "      <td>5.119872</td>\n",
       "      <td>1.703572</td>\n",
       "      <td>45.944423</td>\n",
       "    </tr>\n",
       "    <tr>\n",
       "      <th>min</th>\n",
       "      <td>-31.609576</td>\n",
       "      <td>-26.358598</td>\n",
       "      <td>-0.018144</td>\n",
       "      <td>0.000000</td>\n",
       "    </tr>\n",
       "    <tr>\n",
       "      <th>25%</th>\n",
       "      <td>-6.298551</td>\n",
       "      <td>-8.267985</td>\n",
       "      <td>1.000021</td>\n",
       "      <td>26.953261</td>\n",
       "    </tr>\n",
       "    <tr>\n",
       "      <th>50%</th>\n",
       "      <td>1.153055</td>\n",
       "      <td>-4.813172</td>\n",
       "      <td>2.011479</td>\n",
       "      <td>57.085625</td>\n",
       "    </tr>\n",
       "    <tr>\n",
       "      <th>75%</th>\n",
       "      <td>8.621015</td>\n",
       "      <td>-1.332816</td>\n",
       "      <td>3.999904</td>\n",
       "      <td>107.813044</td>\n",
       "    </tr>\n",
       "    <tr>\n",
       "      <th>max</th>\n",
       "      <td>29.421755</td>\n",
       "      <td>18.734063</td>\n",
       "      <td>5.019721</td>\n",
       "      <td>137.945408</td>\n",
       "    </tr>\n",
       "  </tbody>\n",
       "</table>\n",
       "</div>"
      ],
      "text/plain": [
       "                  f0             f1             f2        product\n",
       "count  100000.000000  100000.000000  100000.000000  100000.000000\n",
       "mean        1.141296      -4.796579       2.494541      68.825000\n",
       "std         8.965932       5.119872       1.703572      45.944423\n",
       "min       -31.609576     -26.358598      -0.018144       0.000000\n",
       "25%        -6.298551      -8.267985       1.000021      26.953261\n",
       "50%         1.153055      -4.813172       2.011479      57.085625\n",
       "75%         8.621015      -1.332816       3.999904     107.813044\n",
       "max        29.421755      18.734063       5.019721     137.945408"
      ]
     },
     "metadata": {},
     "output_type": "display_data"
    }
   ],
   "source": [
    "#Делаем вызов функции\n",
    "\n",
    "study(data_1)"
   ]
  },
  {
   "cell_type": "code",
   "execution_count": 6,
   "metadata": {},
   "outputs": [
    {
     "data": {
      "text/html": [
       "<div>\n",
       "<style scoped>\n",
       "    .dataframe tbody tr th:only-of-type {\n",
       "        vertical-align: middle;\n",
       "    }\n",
       "\n",
       "    .dataframe tbody tr th {\n",
       "        vertical-align: top;\n",
       "    }\n",
       "\n",
       "    .dataframe thead th {\n",
       "        text-align: right;\n",
       "    }\n",
       "</style>\n",
       "<table border=\"1\" class=\"dataframe\">\n",
       "  <thead>\n",
       "    <tr style=\"text-align: right;\">\n",
       "      <th></th>\n",
       "      <th>id</th>\n",
       "      <th>f0</th>\n",
       "      <th>f1</th>\n",
       "      <th>f2</th>\n",
       "      <th>product</th>\n",
       "    </tr>\n",
       "  </thead>\n",
       "  <tbody>\n",
       "    <tr>\n",
       "      <th>0</th>\n",
       "      <td>fwXo0</td>\n",
       "      <td>-1.146987</td>\n",
       "      <td>0.963328</td>\n",
       "      <td>-0.828965</td>\n",
       "      <td>27.758673</td>\n",
       "    </tr>\n",
       "    <tr>\n",
       "      <th>1</th>\n",
       "      <td>WJtFt</td>\n",
       "      <td>0.262778</td>\n",
       "      <td>0.269839</td>\n",
       "      <td>-2.530187</td>\n",
       "      <td>56.069697</td>\n",
       "    </tr>\n",
       "    <tr>\n",
       "      <th>2</th>\n",
       "      <td>ovLUW</td>\n",
       "      <td>0.194587</td>\n",
       "      <td>0.289035</td>\n",
       "      <td>-5.586433</td>\n",
       "      <td>62.871910</td>\n",
       "    </tr>\n",
       "    <tr>\n",
       "      <th>3</th>\n",
       "      <td>q6cA6</td>\n",
       "      <td>2.236060</td>\n",
       "      <td>-0.553760</td>\n",
       "      <td>0.930038</td>\n",
       "      <td>114.572842</td>\n",
       "    </tr>\n",
       "    <tr>\n",
       "      <th>4</th>\n",
       "      <td>WPMUX</td>\n",
       "      <td>-0.515993</td>\n",
       "      <td>1.716266</td>\n",
       "      <td>5.899011</td>\n",
       "      <td>149.600746</td>\n",
       "    </tr>\n",
       "    <tr>\n",
       "      <th>5</th>\n",
       "      <td>LzZXx</td>\n",
       "      <td>-0.758092</td>\n",
       "      <td>0.710691</td>\n",
       "      <td>2.585887</td>\n",
       "      <td>90.222465</td>\n",
       "    </tr>\n",
       "    <tr>\n",
       "      <th>6</th>\n",
       "      <td>WBHRv</td>\n",
       "      <td>-0.574891</td>\n",
       "      <td>0.317727</td>\n",
       "      <td>1.773745</td>\n",
       "      <td>45.641478</td>\n",
       "    </tr>\n",
       "    <tr>\n",
       "      <th>7</th>\n",
       "      <td>XO8fn</td>\n",
       "      <td>-1.906649</td>\n",
       "      <td>-2.458350</td>\n",
       "      <td>-0.177097</td>\n",
       "      <td>72.480640</td>\n",
       "    </tr>\n",
       "    <tr>\n",
       "      <th>8</th>\n",
       "      <td>ybmQ5</td>\n",
       "      <td>1.776292</td>\n",
       "      <td>-0.279356</td>\n",
       "      <td>3.004156</td>\n",
       "      <td>106.616832</td>\n",
       "    </tr>\n",
       "    <tr>\n",
       "      <th>9</th>\n",
       "      <td>OilcN</td>\n",
       "      <td>-1.214452</td>\n",
       "      <td>-0.439314</td>\n",
       "      <td>5.922514</td>\n",
       "      <td>52.954532</td>\n",
       "    </tr>\n",
       "  </tbody>\n",
       "</table>\n",
       "</div>"
      ],
      "text/plain": [
       "      id        f0        f1        f2     product\n",
       "0  fwXo0 -1.146987  0.963328 -0.828965   27.758673\n",
       "1  WJtFt  0.262778  0.269839 -2.530187   56.069697\n",
       "2  ovLUW  0.194587  0.289035 -5.586433   62.871910\n",
       "3  q6cA6  2.236060 -0.553760  0.930038  114.572842\n",
       "4  WPMUX -0.515993  1.716266  5.899011  149.600746\n",
       "5  LzZXx -0.758092  0.710691  2.585887   90.222465\n",
       "6  WBHRv -0.574891  0.317727  1.773745   45.641478\n",
       "7  XO8fn -1.906649 -2.458350 -0.177097   72.480640\n",
       "8  ybmQ5  1.776292 -0.279356  3.004156  106.616832\n",
       "9  OilcN -1.214452 -0.439314  5.922514   52.954532"
      ]
     },
     "metadata": {},
     "output_type": "display_data"
    },
    {
     "name": "stdout",
     "output_type": "stream",
     "text": [
      "<class 'pandas.core.frame.DataFrame'>\n",
      "RangeIndex: 100000 entries, 0 to 99999\n",
      "Data columns (total 5 columns):\n",
      " #   Column   Non-Null Count   Dtype  \n",
      "---  ------   --------------   -----  \n",
      " 0   id       100000 non-null  object \n",
      " 1   f0       100000 non-null  float64\n",
      " 2   f1       100000 non-null  float64\n",
      " 3   f2       100000 non-null  float64\n",
      " 4   product  100000 non-null  float64\n",
      "dtypes: float64(4), object(1)\n",
      "memory usage: 3.8+ MB\n"
     ]
    },
    {
     "data": {
      "text/html": [
       "<div>\n",
       "<style scoped>\n",
       "    .dataframe tbody tr th:only-of-type {\n",
       "        vertical-align: middle;\n",
       "    }\n",
       "\n",
       "    .dataframe tbody tr th {\n",
       "        vertical-align: top;\n",
       "    }\n",
       "\n",
       "    .dataframe thead th {\n",
       "        text-align: right;\n",
       "    }\n",
       "</style>\n",
       "<table border=\"1\" class=\"dataframe\">\n",
       "  <thead>\n",
       "    <tr style=\"text-align: right;\">\n",
       "      <th></th>\n",
       "      <th>f0</th>\n",
       "      <th>f1</th>\n",
       "      <th>f2</th>\n",
       "      <th>product</th>\n",
       "    </tr>\n",
       "  </thead>\n",
       "  <tbody>\n",
       "    <tr>\n",
       "      <th>count</th>\n",
       "      <td>100000.000000</td>\n",
       "      <td>100000.000000</td>\n",
       "      <td>100000.000000</td>\n",
       "      <td>100000.000000</td>\n",
       "    </tr>\n",
       "    <tr>\n",
       "      <th>mean</th>\n",
       "      <td>0.002023</td>\n",
       "      <td>-0.002081</td>\n",
       "      <td>2.495128</td>\n",
       "      <td>95.000000</td>\n",
       "    </tr>\n",
       "    <tr>\n",
       "      <th>std</th>\n",
       "      <td>1.732045</td>\n",
       "      <td>1.730417</td>\n",
       "      <td>3.473445</td>\n",
       "      <td>44.749921</td>\n",
       "    </tr>\n",
       "    <tr>\n",
       "      <th>min</th>\n",
       "      <td>-8.760004</td>\n",
       "      <td>-7.084020</td>\n",
       "      <td>-11.970335</td>\n",
       "      <td>0.000000</td>\n",
       "    </tr>\n",
       "    <tr>\n",
       "      <th>25%</th>\n",
       "      <td>-1.162288</td>\n",
       "      <td>-1.174820</td>\n",
       "      <td>0.130359</td>\n",
       "      <td>59.450441</td>\n",
       "    </tr>\n",
       "    <tr>\n",
       "      <th>50%</th>\n",
       "      <td>0.009424</td>\n",
       "      <td>-0.009482</td>\n",
       "      <td>2.484236</td>\n",
       "      <td>94.925613</td>\n",
       "    </tr>\n",
       "    <tr>\n",
       "      <th>75%</th>\n",
       "      <td>1.158535</td>\n",
       "      <td>1.163678</td>\n",
       "      <td>4.858794</td>\n",
       "      <td>130.595027</td>\n",
       "    </tr>\n",
       "    <tr>\n",
       "      <th>max</th>\n",
       "      <td>7.238262</td>\n",
       "      <td>7.844801</td>\n",
       "      <td>16.739402</td>\n",
       "      <td>190.029838</td>\n",
       "    </tr>\n",
       "  </tbody>\n",
       "</table>\n",
       "</div>"
      ],
      "text/plain": [
       "                  f0             f1             f2        product\n",
       "count  100000.000000  100000.000000  100000.000000  100000.000000\n",
       "mean        0.002023      -0.002081       2.495128      95.000000\n",
       "std         1.732045       1.730417       3.473445      44.749921\n",
       "min        -8.760004      -7.084020     -11.970335       0.000000\n",
       "25%        -1.162288      -1.174820       0.130359      59.450441\n",
       "50%         0.009424      -0.009482       2.484236      94.925613\n",
       "75%         1.158535       1.163678       4.858794     130.595027\n",
       "max         7.238262       7.844801      16.739402     190.029838"
      ]
     },
     "metadata": {},
     "output_type": "display_data"
    }
   ],
   "source": [
    "#Делаем вызов функции\n",
    "\n",
    "study(data_2)"
   ]
  },
  {
   "cell_type": "code",
   "execution_count": 7,
   "metadata": {},
   "outputs": [
    {
     "name": "stdout",
     "output_type": "stream",
     "text": [
      "Количество дубликатов data_0: 0\n",
      "Количество дубликатов data_1: 0\n",
      "Количество дубликатов data_2: 0\n"
     ]
    }
   ],
   "source": [
    "#Проверим данные на явные дубликаты\n",
    "\n",
    "print('Количество дубликатов data_0:', data_0.duplicated().sum())\n",
    "\n",
    "print('Количество дубликатов data_1:', data_1.duplicated().sum())\n",
    "\n",
    "print('Количество дубликатов data_2:', data_2.duplicated().sum())"
   ]
  },
  {
   "cell_type": "markdown",
   "metadata": {},
   "source": [
    "В данных присутствует столбец 'id'. Для нас он не несет никакой ценности. Создадим новые датафрэймы без этой информации."
   ]
  },
  {
   "cell_type": "code",
   "execution_count": 8,
   "metadata": {},
   "outputs": [],
   "source": [
    "geo_0 = data_0.drop(['id'], axis=1)\n",
    "\n",
    "geo_1 = data_1.drop(['id'], axis=1)\n",
    "\n",
    "geo_2 = data_2.drop(['id'], axis=1)"
   ]
  },
  {
   "cell_type": "code",
   "execution_count": 9,
   "metadata": {},
   "outputs": [
    {
     "name": "stdout",
     "output_type": "stream",
     "text": [
      "<class 'pandas.core.frame.DataFrame'>\n",
      "RangeIndex: 100000 entries, 0 to 99999\n",
      "Data columns (total 4 columns):\n",
      " #   Column   Non-Null Count   Dtype  \n",
      "---  ------   --------------   -----  \n",
      " 0   f0       100000 non-null  float64\n",
      " 1   f1       100000 non-null  float64\n",
      " 2   f2       100000 non-null  float64\n",
      " 3   product  100000 non-null  float64\n",
      "dtypes: float64(4)\n",
      "memory usage: 3.1 MB\n",
      "<class 'pandas.core.frame.DataFrame'>\n",
      "RangeIndex: 100000 entries, 0 to 99999\n",
      "Data columns (total 4 columns):\n",
      " #   Column   Non-Null Count   Dtype  \n",
      "---  ------   --------------   -----  \n",
      " 0   f0       100000 non-null  float64\n",
      " 1   f1       100000 non-null  float64\n",
      " 2   f2       100000 non-null  float64\n",
      " 3   product  100000 non-null  float64\n",
      "dtypes: float64(4)\n",
      "memory usage: 3.1 MB\n",
      "<class 'pandas.core.frame.DataFrame'>\n",
      "RangeIndex: 100000 entries, 0 to 99999\n",
      "Data columns (total 4 columns):\n",
      " #   Column   Non-Null Count   Dtype  \n",
      "---  ------   --------------   -----  \n",
      " 0   f0       100000 non-null  float64\n",
      " 1   f1       100000 non-null  float64\n",
      " 2   f2       100000 non-null  float64\n",
      " 3   product  100000 non-null  float64\n",
      "dtypes: float64(4)\n",
      "memory usage: 3.1 MB\n"
     ]
    }
   ],
   "source": [
    "#Посмотрим новые датафрэймы\n",
    "\n",
    "geo_0.info()\n",
    "\n",
    "geo_1.info()\n",
    "\n",
    "geo_2.info()"
   ]
  },
  {
   "cell_type": "code",
   "execution_count": 10,
   "metadata": {},
   "outputs": [
    {
     "data": {
      "text/html": [
       "<div>\n",
       "<style scoped>\n",
       "    .dataframe tbody tr th:only-of-type {\n",
       "        vertical-align: middle;\n",
       "    }\n",
       "\n",
       "    .dataframe tbody tr th {\n",
       "        vertical-align: top;\n",
       "    }\n",
       "\n",
       "    .dataframe thead th {\n",
       "        text-align: right;\n",
       "    }\n",
       "</style>\n",
       "<table border=\"1\" class=\"dataframe\">\n",
       "  <thead>\n",
       "    <tr style=\"text-align: right;\">\n",
       "      <th></th>\n",
       "      <th>f0</th>\n",
       "      <th>f1</th>\n",
       "      <th>f2</th>\n",
       "      <th>product</th>\n",
       "    </tr>\n",
       "  </thead>\n",
       "  <tbody>\n",
       "    <tr>\n",
       "      <th>57263</th>\n",
       "      <td>-0.702064</td>\n",
       "      <td>0.375992</td>\n",
       "      <td>0.236572</td>\n",
       "      <td>0.0</td>\n",
       "    </tr>\n",
       "  </tbody>\n",
       "</table>\n",
       "</div>"
      ],
      "text/plain": [
       "             f0        f1        f2  product\n",
       "57263 -0.702064  0.375992  0.236572      0.0"
      ]
     },
     "execution_count": 10,
     "metadata": {},
     "output_type": "execute_result"
    }
   ],
   "source": [
    "#Посмотрим нулевые значения в датафрэйме\n",
    "\n",
    "geo_0[geo_0['product'] == 0]"
   ]
  },
  {
   "cell_type": "code",
   "execution_count": 11,
   "metadata": {},
   "outputs": [
    {
     "data": {
      "text/html": [
       "<div>\n",
       "<style scoped>\n",
       "    .dataframe tbody tr th:only-of-type {\n",
       "        vertical-align: middle;\n",
       "    }\n",
       "\n",
       "    .dataframe tbody tr th {\n",
       "        vertical-align: top;\n",
       "    }\n",
       "\n",
       "    .dataframe thead th {\n",
       "        text-align: right;\n",
       "    }\n",
       "</style>\n",
       "<table border=\"1\" class=\"dataframe\">\n",
       "  <thead>\n",
       "    <tr style=\"text-align: right;\">\n",
       "      <th></th>\n",
       "      <th>f0</th>\n",
       "      <th>f1</th>\n",
       "      <th>f2</th>\n",
       "      <th>product</th>\n",
       "    </tr>\n",
       "  </thead>\n",
       "  <tbody>\n",
       "    <tr>\n",
       "      <th>11</th>\n",
       "      <td>16.320755</td>\n",
       "      <td>-0.562946</td>\n",
       "      <td>-0.001783</td>\n",
       "      <td>0.0</td>\n",
       "    </tr>\n",
       "    <tr>\n",
       "      <th>13</th>\n",
       "      <td>6.695604</td>\n",
       "      <td>-0.749449</td>\n",
       "      <td>-0.007630</td>\n",
       "      <td>0.0</td>\n",
       "    </tr>\n",
       "    <tr>\n",
       "      <th>62</th>\n",
       "      <td>21.418478</td>\n",
       "      <td>-5.134490</td>\n",
       "      <td>-0.002836</td>\n",
       "      <td>0.0</td>\n",
       "    </tr>\n",
       "    <tr>\n",
       "      <th>63</th>\n",
       "      <td>6.822701</td>\n",
       "      <td>3.104979</td>\n",
       "      <td>-0.000723</td>\n",
       "      <td>0.0</td>\n",
       "    </tr>\n",
       "    <tr>\n",
       "      <th>77</th>\n",
       "      <td>6.750150</td>\n",
       "      <td>-11.893512</td>\n",
       "      <td>-0.001601</td>\n",
       "      <td>0.0</td>\n",
       "    </tr>\n",
       "    <tr>\n",
       "      <th>...</th>\n",
       "      <td>...</td>\n",
       "      <td>...</td>\n",
       "      <td>...</td>\n",
       "      <td>...</td>\n",
       "    </tr>\n",
       "    <tr>\n",
       "      <th>99936</th>\n",
       "      <td>5.085749</td>\n",
       "      <td>-3.980305</td>\n",
       "      <td>0.005063</td>\n",
       "      <td>0.0</td>\n",
       "    </tr>\n",
       "    <tr>\n",
       "      <th>99948</th>\n",
       "      <td>8.277805</td>\n",
       "      <td>-9.178818</td>\n",
       "      <td>0.003275</td>\n",
       "      <td>0.0</td>\n",
       "    </tr>\n",
       "    <tr>\n",
       "      <th>99956</th>\n",
       "      <td>13.343983</td>\n",
       "      <td>-1.290200</td>\n",
       "      <td>0.005980</td>\n",
       "      <td>0.0</td>\n",
       "    </tr>\n",
       "    <tr>\n",
       "      <th>99961</th>\n",
       "      <td>13.854163</td>\n",
       "      <td>-11.528089</td>\n",
       "      <td>-0.005556</td>\n",
       "      <td>0.0</td>\n",
       "    </tr>\n",
       "    <tr>\n",
       "      <th>99973</th>\n",
       "      <td>12.698645</td>\n",
       "      <td>-4.384673</td>\n",
       "      <td>-0.002600</td>\n",
       "      <td>0.0</td>\n",
       "    </tr>\n",
       "  </tbody>\n",
       "</table>\n",
       "<p>8235 rows × 4 columns</p>\n",
       "</div>"
      ],
      "text/plain": [
       "              f0         f1        f2  product\n",
       "11     16.320755  -0.562946 -0.001783      0.0\n",
       "13      6.695604  -0.749449 -0.007630      0.0\n",
       "62     21.418478  -5.134490 -0.002836      0.0\n",
       "63      6.822701   3.104979 -0.000723      0.0\n",
       "77      6.750150 -11.893512 -0.001601      0.0\n",
       "...          ...        ...       ...      ...\n",
       "99936   5.085749  -3.980305  0.005063      0.0\n",
       "99948   8.277805  -9.178818  0.003275      0.0\n",
       "99956  13.343983  -1.290200  0.005980      0.0\n",
       "99961  13.854163 -11.528089 -0.005556      0.0\n",
       "99973  12.698645  -4.384673 -0.002600      0.0\n",
       "\n",
       "[8235 rows x 4 columns]"
      ]
     },
     "execution_count": 11,
     "metadata": {},
     "output_type": "execute_result"
    }
   ],
   "source": [
    "#Посмотрим нулевые значения в датафрэйме\n",
    "\n",
    "geo_1[geo_1['product'] == 0]"
   ]
  },
  {
   "cell_type": "code",
   "execution_count": 12,
   "metadata": {
    "scrolled": true
   },
   "outputs": [
    {
     "data": {
      "text/html": [
       "<div>\n",
       "<style scoped>\n",
       "    .dataframe tbody tr th:only-of-type {\n",
       "        vertical-align: middle;\n",
       "    }\n",
       "\n",
       "    .dataframe tbody tr th {\n",
       "        vertical-align: top;\n",
       "    }\n",
       "\n",
       "    .dataframe thead th {\n",
       "        text-align: right;\n",
       "    }\n",
       "</style>\n",
       "<table border=\"1\" class=\"dataframe\">\n",
       "  <thead>\n",
       "    <tr style=\"text-align: right;\">\n",
       "      <th></th>\n",
       "      <th>f0</th>\n",
       "      <th>f1</th>\n",
       "      <th>f2</th>\n",
       "      <th>product</th>\n",
       "    </tr>\n",
       "  </thead>\n",
       "  <tbody>\n",
       "    <tr>\n",
       "      <th>68149</th>\n",
       "      <td>-0.865596</td>\n",
       "      <td>-1.615247</td>\n",
       "      <td>-4.126441</td>\n",
       "      <td>0.0</td>\n",
       "    </tr>\n",
       "  </tbody>\n",
       "</table>\n",
       "</div>"
      ],
      "text/plain": [
       "             f0        f1        f2  product\n",
       "68149 -0.865596 -1.615247 -4.126441      0.0"
      ]
     },
     "execution_count": 12,
     "metadata": {},
     "output_type": "execute_result"
    }
   ],
   "source": [
    "#Посмотрим нулевые значения в датафрэйме\n",
    "\n",
    "geo_2[geo_2['product'] == 0]"
   ]
  },
  {
   "cell_type": "code",
   "execution_count": 13,
   "metadata": {
    "scrolled": true
   },
   "outputs": [
    {
     "data": {
      "image/png": "[encoded data removed]",
      "text/plain": [
       "<Figure size 432x288 with 1 Axes>"
      ]
     },
     "metadata": {
      "needs_background": "light"
     },
     "output_type": "display_data"
    }
   ],
   "source": [
    "#Визуализируем данные запасов сырья\n",
    "\n",
    "plt.title('График распределения объемов нефти в регионах')\n",
    "geo_0['product'].plot(kind='hist', histtype='step', linewidth=3, color='b')\n",
    "geo_1['product'].plot(kind='hist', histtype='step', linewidth=3, color='g')\n",
    "geo_2['product'].plot(kind='hist', histtype='step', linewidth=3, color='r')\n",
    "plt.xlabel('Распределение данных по объемам нефти в регионах')\n",
    "plt.ylabel('Объем нефти')\n",
    "plt.show()"
   ]
  },
  {
   "cell_type": "markdown",
   "metadata": {},
   "source": [
    "# Вывод\n",
    "\n",
    "Проанализировали данные, целевым признаком является столбец **'product'**. Можем заметить, что в регионе 1(geo_1) в столбце **'product'** 8,235% это нулевые значения. Возможно, что данные были утеряны, но мы можем только предполагать. Как в дальнейшем это может отразиться на анализе пока не ясно. Данные готовы для обучения, у всех датафрэймов одинаковый размер, явных дубликатов не выявлено, пропусков нет. "
   ]
  },
  {
   "cell_type": "markdown",
   "metadata": {},
   "source": [
    "## Обучение и проверка модели"
   ]
  },
  {
   "cell_type": "code",
   "execution_count": 14,
   "metadata": {},
   "outputs": [],
   "source": [
    "#Разделим на признаки и целевой признак, разобьем данные на обучающую и валидационную выборки в соотношении 75:25\n",
    "\n",
    "features = geo_0.drop('product', axis=1)\n",
    "\n",
    "target = geo_0['product']\n",
    "\n",
    "features_train_0, features_valid_0, target_train_0, target_valid_0 = train_test_split(features,\n",
    "                                                    target,\n",
    "                                                    test_size=.25,\n",
    "                                                    random_state=RANDOM_STATE)"
   ]
  },
  {
   "cell_type": "code",
   "execution_count": 15,
   "metadata": {},
   "outputs": [
    {
     "data": {
      "text/plain": [
       "((75000, 3), (25000, 3))"
      ]
     },
     "execution_count": 15,
     "metadata": {},
     "output_type": "execute_result"
    }
   ],
   "source": [
    "#Посмотрим размер разбивки\n",
    "\n",
    "features_train_0.shape, features_valid_0.shape"
   ]
  },
  {
   "cell_type": "code",
   "execution_count": 16,
   "metadata": {},
   "outputs": [],
   "source": [
    "#Разделим на признаки и целевой признак, разобьем данные на обучающую и валидационную выборки в соотношении 75:25\n",
    "\n",
    "features = geo_1.drop('product', axis=1)\n",
    "\n",
    "target = geo_1['product']\n",
    "\n",
    "features_train_1, features_valid_1, target_train_1, target_valid_1 = train_test_split(features,\n",
    "                                                    target,\n",
    "                                                    test_size=.25,\n",
    "                                                    random_state=RANDOM_STATE)"
   ]
  },
  {
   "cell_type": "code",
   "execution_count": 17,
   "metadata": {},
   "outputs": [
    {
     "data": {
      "text/plain": [
       "((75000, 3), (25000, 3))"
      ]
     },
     "execution_count": 17,
     "metadata": {},
     "output_type": "execute_result"
    }
   ],
   "source": [
    "#Посмотрим размер разбивки\n",
    "\n",
    "features_train_1.shape, features_valid_1.shape"
   ]
  },
  {
   "cell_type": "code",
   "execution_count": 18,
   "metadata": {},
   "outputs": [],
   "source": [
    "#Разделим на признаки и целевой признак, разобьем данные на обучающую и валидационную выборки в соотношении 75:25\n",
    "\n",
    "features = geo_2.drop('product', axis=1)\n",
    "\n",
    "target = geo_2['product']\n",
    "\n",
    "features_train_2, features_valid_2, target_train_2, target_valid_2 = train_test_split(features,\n",
    "                                                    target,\n",
    "                                                    test_size=.25,\n",
    "                                                    random_state=RANDOM_STATE)"
   ]
  },
  {
   "cell_type": "code",
   "execution_count": 19,
   "metadata": {},
   "outputs": [
    {
     "data": {
      "text/plain": [
       "((75000, 3), (25000, 3))"
      ]
     },
     "execution_count": 19,
     "metadata": {},
     "output_type": "execute_result"
    }
   ],
   "source": [
    "#Посмотрим размер разбивки\n",
    "\n",
    "features_train_2.shape, features_valid_2.shape"
   ]
  },
  {
   "cell_type": "markdown",
   "metadata": {},
   "source": [
    "**Обучающие выборки** - features_train_0, target_train_0; features_train_1, target_train_1; features_train_2, target_train_2.\n",
    "\n",
    "**Валидационные выборки** - features_valid_0, target_valid_0; features_valid_1, target_valid_1; features_valid_2, target_valid_2."
   ]
  },
  {
   "cell_type": "code",
   "execution_count": 20,
   "metadata": {},
   "outputs": [],
   "source": [
    "# код ревьюера\n",
    "from sklearn.preprocessing import StandardScaler"
   ]
  },
  {
   "cell_type": "code",
   "execution_count": 21,
   "metadata": {},
   "outputs": [
    {
     "data": {
      "text/plain": [
       "StandardScaler()"
      ]
     },
     "execution_count": 21,
     "metadata": {},
     "output_type": "execute_result"
    }
   ],
   "source": [
    "#Выполним масштабирование признаков\n",
    "\n",
    "numeric = ['f0', 'f1', 'f2']\n",
    "\n",
    "scaler = StandardScaler()\n",
    "\n",
    "scaler.fit(features_train_0[numeric])"
   ]
  },
  {
   "cell_type": "code",
   "execution_count": 22,
   "metadata": {},
   "outputs": [
    {
     "data": {
      "text/plain": [
       "(             f0        f1        f2\n",
       " 27212 -0.544828  1.390264 -0.094959\n",
       " 7866   1.455912 -0.480422  1.209567\n",
       " 62041  0.260460  0.825069 -0.204865\n",
       " 70185 -1.837105  0.010321 -0.147634\n",
       " 82230 -1.299243  0.987558  1.273181,\n",
       "              f0        f1        f2\n",
       " 71751  0.517917 -0.610097 -0.126226\n",
       " 80493  0.568391 -0.086063 -0.814914\n",
       " 2655   0.805688 -1.613289 -1.341342\n",
       " 53233  0.222503 -1.355437 -0.597275\n",
       " 91141 -0.087941  1.433113 -0.544588)"
      ]
     },
     "execution_count": 22,
     "metadata": {},
     "output_type": "execute_result"
    }
   ],
   "source": [
    "#Масштабируем численные признаки обучающей и валидационной выборок для geo_0 \n",
    "\n",
    "pd.options.mode.chained_assignment = None\n",
    "\n",
    "features_train_0[numeric] = scaler.transform(features_train_0[numeric])\n",
    "features_valid_0[numeric] = scaler.transform(features_valid_0[numeric])\n",
    "\n",
    "features_train_0.head(), features_valid_0.head()"
   ]
  },
  {
   "cell_type": "code",
   "execution_count": 23,
   "metadata": {},
   "outputs": [
    {
     "data": {
      "text/plain": [
       "(              f0         f1        f2\n",
       " 27212  -8.013128  -3.650423  0.152445\n",
       " 7866   21.015869   8.631534  0.151077\n",
       " 62041  11.836247  -8.269973 -0.158429\n",
       " 70185 -14.812491 -19.027858 -0.464425\n",
       " 82230 -17.823038 -17.304038 -0.156771,\n",
       "               f0         f1        f2\n",
       " 71751  -0.997119  -4.189925  0.152721\n",
       " 80493   9.770017 -28.027632 -0.157110\n",
       " 2655   -8.034940 -10.050608 -0.462346\n",
       " 53233  16.131117 -21.653765 -0.157168\n",
       " 91141   6.415368  -9.410533 -0.766880)"
      ]
     },
     "execution_count": 23,
     "metadata": {},
     "output_type": "execute_result"
    }
   ],
   "source": [
    "#Масштабируем численные признаки обучающей и валидационной выборок для geo_1 \n",
    "\n",
    "pd.options.mode.chained_assignment = None\n",
    "\n",
    "features_train_1[numeric] = scaler.transform(features_train_1[numeric])\n",
    "features_valid_1[numeric] = scaler.transform(features_valid_1[numeric])\n",
    "\n",
    "features_train_1.head(), features_valid_1.head()"
   ]
  },
  {
   "cell_type": "code",
   "execution_count": 24,
   "metadata": {},
   "outputs": [
    {
     "data": {
      "text/plain": [
       "(             f0        f1        f2\n",
       " 27212 -1.610736  2.159798 -0.430546\n",
       " 7866  -2.332818 -1.893570 -1.308920\n",
       " 62041 -2.818276  0.210194  0.314723\n",
       " 70185  1.872286  4.885755 -0.819189\n",
       " 82230 -0.951421  2.509998  0.895990,\n",
       "              f0        f1        f2\n",
       " 71751 -2.227708 -8.154832 -0.086197\n",
       " 80493 -2.197772  2.035861 -1.071604\n",
       " 2655  -5.832740 -1.315477 -0.263612\n",
       " 53233  1.576180  2.715270  0.543945\n",
       " 91141 -2.897651  7.691605  1.102770)"
      ]
     },
     "execution_count": 24,
     "metadata": {},
     "output_type": "execute_result"
    }
   ],
   "source": [
    "#Масштабируем численные признаки обучающей и валидационной выборок для geo_2 \n",
    "\n",
    "pd.options.mode.chained_assignment = None\n",
    "\n",
    "features_train_2[numeric] = scaler.transform(features_train_2[numeric])\n",
    "features_valid_2[numeric] = scaler.transform(features_valid_2[numeric])\n",
    "\n",
    "features_train_2.head(), features_valid_2.head()"
   ]
  },
  {
   "cell_type": "code",
   "execution_count": 25,
   "metadata": {
    "scrolled": true
   },
   "outputs": [
    {
     "name": "stdout",
     "output_type": "stream",
     "text": [
      "Средний запас предсказанного сырья 92.59256778438035 RMSE 37.5794217150813\n"
     ]
    }
   ],
   "source": [
    "#Обучим модель и посмотрим на средний запас предсказанного сырья и RMSE модели (регион 0)\n",
    "\n",
    "model_lr_0 = LinearRegression(normalize=True).fit(features_train_0,target_train_0)\n",
    "prediction_0 = model_lr_0.predict(features_valid_0)\n",
    "\n",
    "print('Средний запас предсказанного сырья', prediction_0.mean(), 'RMSE', mean_squared_error(target_valid_0, prediction_0)**0.5)"
   ]
  },
  {
   "cell_type": "code",
   "execution_count": 26,
   "metadata": {},
   "outputs": [
    {
     "name": "stdout",
     "output_type": "stream",
     "text": [
      "Средний запас предсказанного сырья 68.728546895446 RMSE 0.8930992867756168\n"
     ]
    }
   ],
   "source": [
    "#Обучим модель и посмотрим на средний запас предсказанного сырья и RMSE модели (регион 1)\n",
    "\n",
    "model_lr_1 = LinearRegression(normalize=True).fit(features_train_1,target_train_1)\n",
    "prediction_1 = model_lr_1.predict(features_valid_1)\n",
    "\n",
    "print('Средний запас предсказанного сырья', prediction_1.mean(),'RMSE', mean_squared_error(target_valid_1, prediction_1)**0.5)"
   ]
  },
  {
   "cell_type": "code",
   "execution_count": 27,
   "metadata": {},
   "outputs": [
    {
     "name": "stdout",
     "output_type": "stream",
     "text": [
      "Средний запас предсказанного сырья 94.96504596800489 RMSE 40.02970873393434\n"
     ]
    }
   ],
   "source": [
    "#Обучим модель и посмотрим на средний запас предсказанного сырья и RMSE модели (регион 3)\n",
    "\n",
    "model_lr_2 = LinearRegression(normalize=True).fit(features_train_2,target_train_2)\n",
    "prediction_2 = model_lr_2.predict(features_valid_2)\n",
    "\n",
    "print('Средний запас предсказанного сырья', prediction_2.mean(),'RMSE', mean_squared_error(target_valid_2, prediction_2)**0.5)"
   ]
  },
  {
   "cell_type": "code",
   "execution_count": 28,
   "metadata": {},
   "outputs": [
    {
     "data": {
      "text/html": [
       "<div>\n",
       "<style scoped>\n",
       "    .dataframe tbody tr th:only-of-type {\n",
       "        vertical-align: middle;\n",
       "    }\n",
       "\n",
       "    .dataframe tbody tr th {\n",
       "        vertical-align: top;\n",
       "    }\n",
       "\n",
       "    .dataframe thead th {\n",
       "        text-align: right;\n",
       "    }\n",
       "</style>\n",
       "<table border=\"1\" class=\"dataframe\">\n",
       "  <thead>\n",
       "    <tr style=\"text-align: right;\">\n",
       "      <th></th>\n",
       "      <th>регион 0</th>\n",
       "      <th>регион 1</th>\n",
       "      <th>регион 2</th>\n",
       "    </tr>\n",
       "  </thead>\n",
       "  <tbody>\n",
       "    <tr>\n",
       "      <th>средний запас предсказанного сырья</th>\n",
       "      <td>92.592568</td>\n",
       "      <td>68.728547</td>\n",
       "      <td>94.965046</td>\n",
       "    </tr>\n",
       "    <tr>\n",
       "      <th>RMSE модели</th>\n",
       "      <td>37.579422</td>\n",
       "      <td>0.893099</td>\n",
       "      <td>40.029709</td>\n",
       "    </tr>\n",
       "    <tr>\n",
       "      <th>реальный средний запас сырья</th>\n",
       "      <td>92.500000</td>\n",
       "      <td>68.825000</td>\n",
       "      <td>95.000000</td>\n",
       "    </tr>\n",
       "  </tbody>\n",
       "</table>\n",
       "</div>"
      ],
      "text/plain": [
       "                                     регион 0   регион 1   регион 2\n",
       "средний запас предсказанного сырья  92.592568  68.728547  94.965046\n",
       "RMSE модели                         37.579422   0.893099  40.029709\n",
       "реальный средний запас сырья        92.500000  68.825000  95.000000"
      ]
     },
     "execution_count": 28,
     "metadata": {},
     "output_type": "execute_result"
    }
   ],
   "source": [
    "#Для наглядности данных, объединим их в таблицу\n",
    "\n",
    "tabl = pd.DataFrame(index=['средний запас предсказанного сырья','RMSE модели', 'реальный средний запас сырья'], \n",
    "                               columns=['регион 0','регион 1','регион 2'])\n",
    "tabl['регион 0'] = prediction_0.mean(), mean_squared_error(target_valid_0, prediction_0)**0.5, geo_0['product'].mean()\n",
    "tabl['регион 1'] = prediction_1.mean(), mean_squared_error(target_valid_1, prediction_1)**0.5, geo_1['product'].mean()\n",
    "tabl['регион 2'] = prediction_2.mean(), mean_squared_error(target_valid_2, prediction_2)**0.5, geo_2['product'].mean()\n",
    "\n",
    "tabl"
   ]
  },
  {
   "cell_type": "markdown",
   "metadata": {},
   "source": [
    "# Вывод\n",
    "\n",
    "Средний запас сырья по предсказаниям модели практически совпадают с реальным средним запасом сырья. Лучший показатель RMSE у модели, которая делала предсказания по данным региона 1. Как мы помним, в данных было много нулевых значений, по всей вероятности они повлияли на переобучение модели. По моему мнению, стоит исключить регион 1 как потенциально прибыльный, так как по сравнению с другими регионами его запасы гораздо ниже, а также часть данных утеряна и это мешает дальнейшей работе с ними. На рассмотрении остаются регион 0 и регион 2.\n"
   ]
  },
  {
   "cell_type": "markdown",
   "metadata": {},
   "source": [
    "## Подготовка к расчёту прибыли"
   ]
  },
  {
   "cell_type": "markdown",
   "metadata": {},
   "source": [
    "При разведке региона исследуют 500 точек, из которых с помощью машинного обучения выбирают 200 лучших для разработки. Бюджет на разработку скважин в регионе — 10 млрд рублей. При нынешних ценах один баррель сырья приносит 450 рублей дохода. Доход с каждой единицы продукта составляет 450 тыс. рублей, поскольку объём указан в тысячах баррелей."
   ]
  },
  {
   "cell_type": "code",
   "execution_count": 29,
   "metadata": {},
   "outputs": [],
   "source": [
    "#Необходимые константы для дальнейшей работы\n",
    "\n",
    "UNIT_INCOME = 450000\n",
    "POINTS = 200\n",
    "BUDGET = 10000000000\n",
    "TOTAL_POINTS = 500"
   ]
  },
  {
   "cell_type": "code",
   "execution_count": 30,
   "metadata": {},
   "outputs": [
    {
     "name": "stdout",
     "output_type": "stream",
     "text": [
      "Cредний запас сырья в 0 регионе: 92.50000000000001\n",
      "Cредний запас сырья в 1 регионе: 68.82500000000002\n",
      "Cредний запас сырья в 2 регионе: 95.00000000000004\n"
     ]
    }
   ],
   "source": [
    "#Посмотрим на средние запасы сырья для сравнения с достаточным объемом\n",
    "\n",
    "print('Cредний запас сырья в 0 регионе:', geo_0['product'].mean())\n",
    "print('Cредний запас сырья в 1 регионе:', geo_1['product'].mean())\n",
    "print('Cредний запас сырья в 2 регионе:', geo_2['product'].mean())"
   ]
  },
  {
   "cell_type": "code",
   "execution_count": 31,
   "metadata": {},
   "outputs": [
    {
     "name": "stdout",
     "output_type": "stream",
     "text": [
      "Бюджет одной скважины: 50000000.0\n"
     ]
    }
   ],
   "source": [
    "#Вычислим бюджет для одной скважины\n",
    "\n",
    "budget_one_well = BUDGET/POINTS\n",
    "print('Бюджет одной скважины:', budget_one_well)"
   ]
  },
  {
   "cell_type": "code",
   "execution_count": 32,
   "metadata": {},
   "outputs": [
    {
     "name": "stdout",
     "output_type": "stream",
     "text": [
      "Достаточный объем сырья для безубыточной разработки 111.11111111111111\n"
     ]
    }
   ],
   "source": [
    "#Вычислим достаточный объем сырья\n",
    "\n",
    "volume_one_well = budget_one_well/UNIT_INCOME\n",
    "print('Достаточный объем сырья для безубыточной разработки', volume_one_well)"
   ]
  },
  {
   "cell_type": "markdown",
   "metadata": {},
   "source": [
    "# Вывод\n",
    "\n",
    "Достаточный объем сырья для безубыточной разработки равен 111.11111111111111, а это значит, для того, чтобы принять решение о строительстве новой скважины нам нужно больше данных."
   ]
  },
  {
   "cell_type": "markdown",
   "metadata": {},
   "source": [
    "## Расчёт прибыли и рисков "
   ]
  },
  {
   "cell_type": "code",
   "execution_count": 33,
   "metadata": {},
   "outputs": [],
   "source": [
    "#Преобразуем целевые признаки и предсказания в объект Series, это понадобится нам для дальнейшей работы\n",
    "\n",
    "#Регион 0\n",
    "target_valid_0 = pd.Series(target_valid_0).reset_index(drop=True)\n",
    "prediction_0 = pd.Series(prediction_0).reset_index(drop=True)\n",
    "\n",
    "#Регион 1\n",
    "target_valid_1 = pd.Series(target_valid_1).reset_index(drop=True)\n",
    "prediction_1 = pd.Series(prediction_1).reset_index(drop=True)\n",
    "\n",
    "#Регион 2\n",
    "target_valid_2 = pd.Series(target_valid_2).reset_index(drop=True)\n",
    "prediction_2 = pd.Series(prediction_2).reset_index(drop=True)"
   ]
  },
  {
   "cell_type": "code",
   "execution_count": 34,
   "metadata": {},
   "outputs": [],
   "source": [
    "#Создадим функцию для вычисления расчета прибыли\n",
    "\n",
    "def profit (target, prediction):\n",
    "    prediction_sort = prediction.sort_values(ascending=False)\n",
    "    target_select = target[prediction_sort.index][:POINTS]\n",
    "    return UNIT_INCOME * target_select.sum() - BUDGET"
   ]
  },
  {
   "cell_type": "code",
   "execution_count": 35,
   "metadata": {},
   "outputs": [
    {
     "name": "stdout",
     "output_type": "stream",
     "text": [
      "3320826043.1398506\n"
     ]
    }
   ],
   "source": [
    "#Сделаем вызов функции и посчитаем прибыль для региона 0\n",
    "\n",
    "profit_0 = profit(target_valid_0, prediction_0)\n",
    "\n",
    "print(profit_0)"
   ]
  },
  {
   "cell_type": "code",
   "execution_count": 36,
   "metadata": {},
   "outputs": [
    {
     "name": "stdout",
     "output_type": "stream",
     "text": [
      "2415086696.681511\n"
     ]
    }
   ],
   "source": [
    "#Сделаем вызов функции и посчитаем прибыль для региона 1\n",
    "\n",
    "profit_1 = profit(target_valid_1, prediction_1)\n",
    "\n",
    "print(profit_1)"
   ]
  },
  {
   "cell_type": "code",
   "execution_count": 37,
   "metadata": {},
   "outputs": [
    {
     "name": "stdout",
     "output_type": "stream",
     "text": [
      "2710349963.5998325\n"
     ]
    }
   ],
   "source": [
    "#Сделаем вызов функции и посчитаем прибыль для региона 2\n",
    "\n",
    "profit_2 = profit(target_valid_2, prediction_2)\n",
    "\n",
    "print(profit_2)"
   ]
  },
  {
   "cell_type": "code",
   "execution_count": 38,
   "metadata": {},
   "outputs": [],
   "source": [
    "#Применим технику bootstrap для необходимых нам расчетов(средняя возможная прибыль региона, доверительный интервал, процент риска убытка)\n",
    "\n",
    "state = np.random.RandomState(12345)\n",
    "\n",
    "def bootstrap(target,prediction):\n",
    "    values = []\n",
    "    for i in range(1000):\n",
    "        target_subsample = target.sample(n=TOTAL_POINTS, replace=True, random_state=state)\n",
    "        prediction_subsample = prediction.loc[target_subsample.index]\n",
    "        values.append(profit(target_subsample.reset_index(drop=True), prediction_subsample.reset_index(drop=True)))\n",
    "\n",
    "    values = pd.Series(values)\n",
    "    lower = values.quantile(.025)\n",
    "    upper = values.quantile(.975)\n",
    "\n",
    "    mean = values.mean()\n",
    "    \n",
    "    risk_loss = sum(values < 0) / values.count()\n",
    "    \n",
    "    return mean, lower, upper, risk_loss\n",
    "    "
   ]
  },
  {
   "cell_type": "code",
   "execution_count": 39,
   "metadata": {},
   "outputs": [
    {
     "name": "stdout",
     "output_type": "stream",
     "text": [
      "Средняя возможная прибыль региона 0: 396164984.8023711\n",
      "95%-й доверительный интервал от -111215545.89049526 до 909766941.5534226\n",
      "Процент риска: 6.90%\n"
     ]
    }
   ],
   "source": [
    "#Сделаем вызов функции и рассчитаем нужные нам показатели для региона 0\n",
    "\n",
    "mean_0, lower_0, upper_0, risk_loss_0 = bootstrap(target_valid_0, prediction_0)\n",
    "\n",
    "print('Средняя возможная прибыль региона 0:', mean_0)\n",
    "print('95%-й доверительный интервал от', lower_0, 'до', upper_0)\n",
    "print('Процент риска: {:.2%}'.format(risk_loss_0))"
   ]
  },
  {
   "cell_type": "code",
   "execution_count": 40,
   "metadata": {},
   "outputs": [
    {
     "name": "stdout",
     "output_type": "stream",
     "text": [
      "Средняя возможная прибыль региона 1: 461155817.2772397\n",
      "95%-й доверительный интервал от 78050810.7517417 до 862952060.2637234\n",
      "Процент риска: 0.70%\n"
     ]
    }
   ],
   "source": [
    "#Сделаем вызов функции и рассчитаем нужные нам показатели для региона 1\n",
    "\n",
    "mean_1, lower_1, upper_1, risk_loss_1 = bootstrap(target_valid_1, prediction_1)\n",
    "\n",
    "print('Средняя возможная прибыль региона 1:', mean_1)\n",
    "print('95%-й доверительный интервал от', lower_1, 'до', upper_1)\n",
    "print('Процент риска: {:.2%}'.format(risk_loss_1))"
   ]
  },
  {
   "cell_type": "code",
   "execution_count": 41,
   "metadata": {},
   "outputs": [
    {
     "name": "stdout",
     "output_type": "stream",
     "text": [
      "Средняя возможная прибыль региона 1: 392950475.17060447\n",
      "95%-й доверительный интервал от -112227625.37857565 до 934562914.5511636\n",
      "Процент риска: 6.50%\n"
     ]
    }
   ],
   "source": [
    "#Сделаем вызов функции и рассчитаем нужные нам показатели для региона 2\n",
    "\n",
    "mean_2, lower_2, upper_2, risk_loss_2 = bootstrap(target_valid_2, prediction_2)\n",
    "\n",
    "print('Средняя возможная прибыль региона 1:', mean_2)\n",
    "print('95%-й доверительный интервал от', lower_2, 'до', upper_2)\n",
    "print('Процент риска: {:.2%}'.format(risk_loss_2))"
   ]
  },
  {
   "cell_type": "code",
   "execution_count": 42,
   "metadata": {},
   "outputs": [
    {
     "name": "stdout",
     "output_type": "stream",
     "text": [
      "+------------------------+-------------------+\n",
      "|       Показатель       |      Значение     |\n",
      "+------------------------+-------------------+\n",
      "|    Средняя выручка     |     430.3 млн     |\n",
      "|          Риск          |        4.9%       |\n",
      "| Доверительный интервал | -93.6 : 974.2 млн |\n",
      "+------------------------+-------------------+\n"
     ]
    },
    {
     "data": {
      "image/png": "[encoded data removed]",
      "text/plain": [
       "<Figure size 432x288 with 1 Axes>"
      ]
     },
     "metadata": {
      "needs_background": "light"
     },
     "output_type": "display_data"
    }
   ],
   "source": [
    "# !pip3 install prettytable\n",
    "from prettytable import PrettyTable\n",
    "import seaborn as sns\n",
    "from scipy import stats as st\n",
    "\n",
    "BUDGET = 10000000000\n",
    "BARREL_COST = 450\n",
    "BARRELS_IN_UNIT = 1000\n",
    "UNIT_COST = BARREL_COST * BARRELS_IN_UNIT\n",
    "TOTAL_POINTS = 500\n",
    "POINTS = 200\n",
    "\n",
    "def revenue_2(target, predictions, points, budget, unit_cost):\n",
    "    predicted_sorted = predictions.sort_values(ascending=False)\n",
    "    selected = target[predicted_sorted.index][:points]\n",
    "    return selected.sum() * unit_cost - budget\n",
    "\n",
    "def bootstrap_2(target, probabilities):\n",
    "    state = np.random.RandomState(888)\n",
    "    values=[]\n",
    "    for i in range(1000):\n",
    "        target_subsample = target.sample(replace=True,\\\n",
    "            random_state=state, n=TOTAL_POINTS)\n",
    "        \n",
    "        probs_subsample = probabilities[target_subsample.index]\n",
    "        values.append(revenue_2(target_subsample, probs_subsample, POINTS, BUDGET, UNIT_COST))\n",
    "\n",
    "    values = pd.Series(values)\n",
    "    lower = values.quantile(0.025)\n",
    "    upper = values.quantile(0.975)\n",
    "    mean = values.mean()\n",
    "    risk = st.percentileofscore(values, 0)\n",
    "     \n",
    "     # Отображение таблицы\n",
    "    table = PrettyTable()\n",
    "    table.field_names = ['Показатель', 'Значение']    \n",
    "    table.add_row(['Средняя выручка', f'{mean/1e6:.1f} млн'])\n",
    "    table.add_row(['Риск', f'{risk:.2}%'])    \n",
    "    table.add_row(['Доверительный интервал', f'{lower/1e6:.1f} : {upper/1e6:.1f} млн'])\n",
    "    print(table)\n",
    "\n",
    "    sns.histplot(values, alpha=0.4,  element=\"step\")\n",
    "    plt.xlabel('Прибыль')\n",
    "    plt.axvline(x=mean, color='b', ls='--', lw=3, label='Средняя прибыль')\n",
    "    plt.axvline(x=lower, color='r', ls=':', lw=3, label='95%-й доверительный интервал')\n",
    "    plt.axvline(x=upper, color='r', ls=':', lw=3)\n",
    "    plt.legend(bbox_to_anchor=(0.5, -0.15), loc='upper center', ncol=2)\n",
    "    plt.show()\n",
    "    \n",
    "bootstrap_2(target_valid_2, prediction_2)"
   ]
  },
  {
   "cell_type": "markdown",
   "metadata": {},
   "source": [
    "# Вывод\n",
    "\n",
    "По условию задания, нужно оставить регион, где процент риска будет ниже 2.5%. Под этот критерий подходит показатель региона 1(0,7%). Средняя возможная прибыль данного региона составляет 461155817.2772397, что является высшим показателем среди остальных регионов. На основе полученных данных я бы рекомендовала создавать новую скважину в регионе 1."
   ]
  },
  {
   "cell_type": "markdown",
   "metadata": {},
   "source": [
    "## Общий вывод проекта\n",
    "\n",
    "Мы изучили данные о запасах в трех регионах. Сделали разбивки данных на обучающую и валидационную выборки. С их помощью обучили модели Линейной регрессии и получили предсказания о средних запасах сырья. Эти показатели оказались практически идентичны реальному среднему запасу. Как показал дальнейший анализ, во всех трех регионах запас сырья ниже необходимого. Мы применили технологию Bootstrap, которая нам показала, что несмотря на небольшой запас сырья, есть перспективный регион, который может принести хорошую прибыль. Это регион 1, средняя возможная прибыль составляет 461155817.2772397 при проценте риска убытка 0,7%."
   ]
  }
 ],
 "metadata": {
  "ExecuteTimeLog": [
   {
    "duration": 2118,
    "start_time": "2023-06-09T17:32:52.138Z"
   },
   {
    "duration": 2089,
    "start_time": "2023-06-09T17:32:54.760Z"
   },
   {
    "duration": 9,
    "start_time": "2023-06-09T17:33:48.622Z"
   },
   {
    "duration": 68,
    "start_time": "2023-06-09T17:34:52.448Z"
   },
   {
    "duration": 65,
    "start_time": "2023-06-09T17:35:16.097Z"
   },
   {
    "duration": 63,
    "start_time": "2023-06-09T17:36:36.498Z"
   },
   {
    "duration": 231,
    "start_time": "2023-06-09T17:52:59.874Z"
   },
   {
    "duration": 176,
    "start_time": "2023-06-09T17:53:41.089Z"
   },
   {
    "duration": 14,
    "start_time": "2023-06-09T17:59:58.776Z"
   },
   {
    "duration": 24,
    "start_time": "2023-06-09T18:00:51.859Z"
   },
   {
    "duration": 4,
    "start_time": "2023-06-09T18:02:41.653Z"
   },
   {
    "duration": 7,
    "start_time": "2023-06-09T18:02:58.152Z"
   },
   {
    "duration": 5,
    "start_time": "2023-06-09T18:03:09.811Z"
   },
   {
    "duration": 4,
    "start_time": "2023-06-09T18:03:21.365Z"
   },
   {
    "duration": 123,
    "start_time": "2023-06-09T18:05:06.454Z"
   },
   {
    "duration": 18,
    "start_time": "2023-06-09T18:05:15.623Z"
   },
   {
    "duration": 19,
    "start_time": "2023-06-09T18:05:34.400Z"
   },
   {
    "duration": 13,
    "start_time": "2023-06-09T18:06:12.593Z"
   },
   {
    "duration": 333,
    "start_time": "2023-06-09T18:21:25.543Z"
   },
   {
    "duration": 328,
    "start_time": "2023-06-09T18:27:59.521Z"
   },
   {
    "duration": 373,
    "start_time": "2023-06-09T18:28:56.089Z"
   },
   {
    "duration": 366,
    "start_time": "2023-06-09T18:30:52.853Z"
   },
   {
    "duration": 1175,
    "start_time": "2023-06-09T18:31:10.673Z"
   },
   {
    "duration": 274,
    "start_time": "2023-06-09T18:31:34.840Z"
   },
   {
    "duration": 269,
    "start_time": "2023-06-09T18:36:07.298Z"
   },
   {
    "duration": 285,
    "start_time": "2023-06-09T18:39:18.542Z"
   },
   {
    "duration": 307,
    "start_time": "2023-06-09T18:40:56.992Z"
   },
   {
    "duration": 228,
    "start_time": "2023-06-09T18:41:15.354Z"
   },
   {
    "duration": 231,
    "start_time": "2023-06-09T18:42:16.738Z"
   },
   {
    "duration": 230,
    "start_time": "2023-06-09T18:43:05.253Z"
   },
   {
    "duration": 225,
    "start_time": "2023-06-09T18:45:15.944Z"
   },
   {
    "duration": 399,
    "start_time": "2023-06-09T18:45:51.344Z"
   },
   {
    "duration": 85,
    "start_time": "2023-06-09T19:05:03.555Z"
   },
   {
    "duration": 68,
    "start_time": "2023-06-09T19:05:16.677Z"
   },
   {
    "duration": 61,
    "start_time": "2023-06-09T19:05:25.648Z"
   },
   {
    "duration": 25,
    "start_time": "2023-06-09T19:05:59.581Z"
   },
   {
    "duration": 35,
    "start_time": "2023-06-09T19:06:33.147Z"
   },
   {
    "duration": 20,
    "start_time": "2023-06-09T19:07:50.416Z"
   },
   {
    "duration": 15,
    "start_time": "2023-06-09T19:07:56.877Z"
   },
   {
    "duration": 10,
    "start_time": "2023-06-09T19:08:05.499Z"
   },
   {
    "duration": 236,
    "start_time": "2023-06-09T19:08:46.004Z"
   },
   {
    "duration": 12,
    "start_time": "2023-06-09T19:19:38.509Z"
   },
   {
    "duration": 4,
    "start_time": "2023-06-09T19:21:18.003Z"
   },
   {
    "duration": 3,
    "start_time": "2023-06-09T19:24:20.706Z"
   },
   {
    "duration": 23,
    "start_time": "2023-06-09T19:25:23.043Z"
   },
   {
    "duration": 5,
    "start_time": "2023-06-09T19:27:49.863Z"
   },
   {
    "duration": 18,
    "start_time": "2023-06-09T19:27:52.545Z"
   },
   {
    "duration": 3,
    "start_time": "2023-06-09T19:29:27.289Z"
   },
   {
    "duration": 22,
    "start_time": "2023-06-09T19:29:29.659Z"
   },
   {
    "duration": 6,
    "start_time": "2023-06-09T19:31:40.224Z"
   },
   {
    "duration": 17,
    "start_time": "2023-06-09T19:31:42.449Z"
   },
   {
    "duration": 5,
    "start_time": "2023-06-09T19:31:52.341Z"
   },
   {
    "duration": 17,
    "start_time": "2023-06-09T19:31:55.402Z"
   },
   {
    "duration": 3,
    "start_time": "2023-06-09T19:32:46.076Z"
   },
   {
    "duration": 18,
    "start_time": "2023-06-09T19:32:48.171Z"
   },
   {
    "duration": 4,
    "start_time": "2023-06-09T19:34:58.498Z"
   },
   {
    "duration": 23,
    "start_time": "2023-06-09T19:35:00.909Z"
   },
   {
    "duration": 11,
    "start_time": "2023-06-09T19:36:10.086Z"
   },
   {
    "duration": 4,
    "start_time": "2023-06-09T19:36:13.561Z"
   },
   {
    "duration": 33,
    "start_time": "2023-06-09T19:36:15.501Z"
   },
   {
    "duration": 4,
    "start_time": "2023-06-09T19:36:44.156Z"
   },
   {
    "duration": 20,
    "start_time": "2023-06-09T19:36:45.993Z"
   },
   {
    "duration": 5,
    "start_time": "2023-06-09T19:38:19.210Z"
   },
   {
    "duration": 4,
    "start_time": "2023-06-09T19:38:30.162Z"
   },
   {
    "duration": 30,
    "start_time": "2023-06-09T19:38:32.942Z"
   },
   {
    "duration": 4,
    "start_time": "2023-06-09T19:38:44.664Z"
   },
   {
    "duration": 24,
    "start_time": "2023-06-09T19:41:10.164Z"
   },
   {
    "duration": 10,
    "start_time": "2023-06-09T19:41:41.151Z"
   },
   {
    "duration": 16,
    "start_time": "2023-06-09T19:42:47.019Z"
   },
   {
    "duration": 3,
    "start_time": "2023-06-09T19:42:56.987Z"
   },
   {
    "duration": 18,
    "start_time": "2023-06-09T19:43:48.144Z"
   },
   {
    "duration": 5,
    "start_time": "2023-06-09T19:43:50.355Z"
   },
   {
    "duration": 15,
    "start_time": "2023-06-09T19:45:21.314Z"
   },
   {
    "duration": 12,
    "start_time": "2023-06-09T19:45:37.850Z"
   },
   {
    "duration": 5,
    "start_time": "2023-06-09T19:45:48.852Z"
   },
   {
    "duration": 18,
    "start_time": "2023-06-09T19:46:22.294Z"
   },
   {
    "duration": 10,
    "start_time": "2023-06-09T19:46:38.146Z"
   },
   {
    "duration": 5,
    "start_time": "2023-06-09T19:47:10.995Z"
   },
   {
    "duration": 11,
    "start_time": "2023-06-09T19:47:20.888Z"
   },
   {
    "duration": 33,
    "start_time": "2023-06-09T19:47:36.266Z"
   },
   {
    "duration": 277,
    "start_time": "2023-06-09T19:54:13.159Z"
   },
   {
    "duration": 25,
    "start_time": "2023-06-09T19:56:00.760Z"
   },
   {
    "duration": 32,
    "start_time": "2023-06-09T20:00:18.652Z"
   },
   {
    "duration": 13,
    "start_time": "2023-06-09T20:00:32.658Z"
   },
   {
    "duration": 14,
    "start_time": "2023-06-09T20:01:13.805Z"
   },
   {
    "duration": 14,
    "start_time": "2023-06-09T20:01:57.980Z"
   },
   {
    "duration": 30,
    "start_time": "2023-06-09T20:03:05.761Z"
   },
   {
    "duration": 19,
    "start_time": "2023-06-09T20:03:15.849Z"
   },
   {
    "duration": 20,
    "start_time": "2023-06-09T20:04:26.080Z"
   },
   {
    "duration": 25,
    "start_time": "2023-06-09T20:05:25.212Z"
   },
   {
    "duration": 22,
    "start_time": "2023-06-09T20:06:10.964Z"
   },
   {
    "duration": 38,
    "start_time": "2023-06-09T20:07:16.024Z"
   },
   {
    "duration": 18,
    "start_time": "2023-06-09T20:08:11.691Z"
   },
   {
    "duration": 5,
    "start_time": "2023-06-09T20:10:45.890Z"
   },
   {
    "duration": 6,
    "start_time": "2023-06-09T20:10:49.756Z"
   },
   {
    "duration": 20,
    "start_time": "2023-06-09T20:11:07.261Z"
   },
   {
    "duration": 16,
    "start_time": "2023-06-09T20:26:14.054Z"
   },
   {
    "duration": 17,
    "start_time": "2023-06-09T20:30:59.980Z"
   },
   {
    "duration": 5,
    "start_time": "2023-06-09T20:51:27.178Z"
   },
   {
    "duration": 11,
    "start_time": "2023-06-09T20:53:25.594Z"
   },
   {
    "duration": 25,
    "start_time": "2023-06-09T20:54:13.480Z"
   },
   {
    "duration": 99,
    "start_time": "2023-06-09T20:54:36.343Z"
   },
   {
    "duration": 101,
    "start_time": "2023-06-09T20:54:49.245Z"
   },
   {
    "duration": 42,
    "start_time": "2023-06-09T20:54:55.690Z"
   },
   {
    "duration": 42,
    "start_time": "2023-06-09T20:56:49.714Z"
   },
   {
    "duration": 17,
    "start_time": "2023-06-09T20:58:04.673Z"
   },
   {
    "duration": 75,
    "start_time": "2023-06-09T21:02:55.964Z"
   },
   {
    "duration": 16,
    "start_time": "2023-06-09T21:03:30.462Z"
   },
   {
    "duration": 84,
    "start_time": "2023-06-09T21:03:33.552Z"
   },
   {
    "duration": 38,
    "start_time": "2023-06-09T21:18:55.211Z"
   },
   {
    "duration": 20,
    "start_time": "2023-06-09T21:20:04.883Z"
   },
   {
    "duration": 15,
    "start_time": "2023-06-09T21:25:59.903Z"
   },
   {
    "duration": 15,
    "start_time": "2023-06-09T21:29:20.764Z"
   },
   {
    "duration": 16,
    "start_time": "2023-06-09T21:30:03.467Z"
   },
   {
    "duration": 23,
    "start_time": "2023-06-09T21:35:44.283Z"
   },
   {
    "duration": 21,
    "start_time": "2023-06-09T21:36:26.248Z"
   },
   {
    "duration": 17,
    "start_time": "2023-06-09T21:37:51.459Z"
   },
   {
    "duration": 8,
    "start_time": "2023-06-10T19:09:50.988Z"
   },
   {
    "duration": 44,
    "start_time": "2023-06-10T19:10:07.496Z"
   },
   {
    "duration": 1546,
    "start_time": "2023-06-10T19:10:32.021Z"
   },
   {
    "duration": 886,
    "start_time": "2023-06-10T19:10:33.570Z"
   },
   {
    "duration": 4,
    "start_time": "2023-06-10T19:10:34.458Z"
   },
   {
    "duration": 72,
    "start_time": "2023-06-10T19:10:34.464Z"
   },
   {
    "duration": 57,
    "start_time": "2023-06-10T19:10:34.537Z"
   },
   {
    "duration": 67,
    "start_time": "2023-06-10T19:10:34.595Z"
   },
   {
    "duration": 131,
    "start_time": "2023-06-10T19:10:34.664Z"
   },
   {
    "duration": 9,
    "start_time": "2023-06-10T19:10:34.796Z"
   },
   {
    "duration": 39,
    "start_time": "2023-06-10T19:10:34.806Z"
   },
   {
    "duration": 9,
    "start_time": "2023-06-10T19:10:34.848Z"
   },
   {
    "duration": 16,
    "start_time": "2023-06-10T19:10:34.859Z"
   },
   {
    "duration": 8,
    "start_time": "2023-06-10T19:10:34.876Z"
   },
   {
    "duration": 230,
    "start_time": "2023-06-10T19:10:34.885Z"
   },
   {
    "duration": 25,
    "start_time": "2023-06-10T19:10:35.116Z"
   },
   {
    "duration": 4,
    "start_time": "2023-06-10T19:10:35.143Z"
   },
   {
    "duration": 31,
    "start_time": "2023-06-10T19:10:35.148Z"
   },
   {
    "duration": 5,
    "start_time": "2023-06-10T19:10:35.181Z"
   },
   {
    "duration": 16,
    "start_time": "2023-06-10T19:10:35.188Z"
   },
   {
    "duration": 3,
    "start_time": "2023-06-10T19:10:35.206Z"
   },
   {
    "duration": 32,
    "start_time": "2023-06-10T19:10:35.211Z"
   },
   {
    "duration": 18,
    "start_time": "2023-06-10T19:10:35.244Z"
   },
   {
    "duration": 17,
    "start_time": "2023-06-10T19:10:35.263Z"
   },
   {
    "duration": 25,
    "start_time": "2023-06-10T19:10:35.282Z"
   },
   {
    "duration": 132,
    "start_time": "2023-06-10T19:10:35.309Z"
   },
   {
    "duration": 100,
    "start_time": "2023-06-10T19:10:35.444Z"
   },
   {
    "duration": 197,
    "start_time": "2023-06-10T19:10:35.546Z"
   },
   {
    "duration": 104,
    "start_time": "2023-06-10T19:10:35.745Z"
   },
   {
    "duration": 3,
    "start_time": "2023-06-10T19:10:35.852Z"
   },
   {
    "duration": 14,
    "start_time": "2023-06-10T19:10:35.856Z"
   },
   {
    "duration": 7,
    "start_time": "2023-06-10T19:11:10.069Z"
   },
   {
    "duration": 4,
    "start_time": "2023-06-10T19:13:22.196Z"
   },
   {
    "duration": 6,
    "start_time": "2023-06-10T19:17:41.474Z"
   },
   {
    "duration": 3,
    "start_time": "2023-06-10T19:20:54.075Z"
   },
   {
    "duration": 3,
    "start_time": "2023-06-10T19:21:27.715Z"
   },
   {
    "duration": 4,
    "start_time": "2023-06-10T19:21:31.813Z"
   },
   {
    "duration": 3,
    "start_time": "2023-06-10T19:22:28.995Z"
   },
   {
    "duration": 82,
    "start_time": "2023-06-10T19:34:00.907Z"
   },
   {
    "duration": 4,
    "start_time": "2023-06-10T19:34:34.023Z"
   },
   {
    "duration": 8,
    "start_time": "2023-06-10T19:34:50.388Z"
   },
   {
    "duration": 16,
    "start_time": "2023-06-10T19:38:07.314Z"
   },
   {
    "duration": 13,
    "start_time": "2023-06-10T19:40:06.533Z"
   },
   {
    "duration": 4,
    "start_time": "2023-06-10T19:40:36.959Z"
   },
   {
    "duration": 11,
    "start_time": "2023-06-10T19:41:04.255Z"
   },
   {
    "duration": 9,
    "start_time": "2023-06-10T19:41:28.338Z"
   },
   {
    "duration": 9,
    "start_time": "2023-06-10T19:41:36.230Z"
   },
   {
    "duration": 9,
    "start_time": "2023-06-10T19:41:58.788Z"
   },
   {
    "duration": 8,
    "start_time": "2023-06-10T19:42:13.823Z"
   },
   {
    "duration": 8,
    "start_time": "2023-06-10T19:56:37.954Z"
   },
   {
    "duration": 101,
    "start_time": "2023-06-10T19:56:49.543Z"
   },
   {
    "duration": 8,
    "start_time": "2023-06-10T19:56:58.092Z"
   },
   {
    "duration": 8,
    "start_time": "2023-06-10T19:57:08.097Z"
   },
   {
    "duration": 3,
    "start_time": "2023-06-10T20:33:19.526Z"
   },
   {
    "duration": 12,
    "start_time": "2023-06-10T20:33:57.538Z"
   },
   {
    "duration": 10,
    "start_time": "2023-06-10T20:34:24.250Z"
   },
   {
    "duration": 35,
    "start_time": "2023-06-10T20:34:39.027Z"
   },
   {
    "duration": 31,
    "start_time": "2023-06-10T20:35:34.130Z"
   },
   {
    "duration": 4,
    "start_time": "2023-06-10T20:36:50.100Z"
   },
   {
    "duration": 15,
    "start_time": "2023-06-10T20:36:52.834Z"
   },
   {
    "duration": 78,
    "start_time": "2023-06-10T20:40:45.377Z"
   },
   {
    "duration": 7,
    "start_time": "2023-06-10T20:40:58.871Z"
   },
   {
    "duration": 17,
    "start_time": "2023-06-10T20:41:40.090Z"
   },
   {
    "duration": 12,
    "start_time": "2023-06-10T20:42:33.203Z"
   },
   {
    "duration": 22,
    "start_time": "2023-06-10T20:43:32.104Z"
   },
   {
    "duration": 17,
    "start_time": "2023-06-10T20:45:02.422Z"
   },
   {
    "duration": 3,
    "start_time": "2023-06-10T20:45:05.449Z"
   },
   {
    "duration": 10,
    "start_time": "2023-06-10T20:45:10.185Z"
   },
   {
    "duration": 18,
    "start_time": "2023-06-10T20:45:19.519Z"
   },
   {
    "duration": 19,
    "start_time": "2023-06-10T20:45:33.018Z"
   },
   {
    "duration": 25,
    "start_time": "2023-06-10T20:45:34.158Z"
   },
   {
    "duration": 21,
    "start_time": "2023-06-10T20:45:34.657Z"
   },
   {
    "duration": 12,
    "start_time": "2023-06-10T20:48:12.775Z"
   },
   {
    "duration": 3,
    "start_time": "2023-06-10T20:50:56.658Z"
   },
   {
    "duration": 29,
    "start_time": "2023-06-10T20:51:13.750Z"
   },
   {
    "duration": 15,
    "start_time": "2023-06-10T20:53:25.378Z"
   },
   {
    "duration": 22,
    "start_time": "2023-06-10T20:54:00.040Z"
   },
   {
    "duration": 14,
    "start_time": "2023-06-10T20:54:20.191Z"
   },
   {
    "duration": 21,
    "start_time": "2023-06-10T20:57:35.464Z"
   },
   {
    "duration": 4,
    "start_time": "2023-06-10T20:59:00.341Z"
   },
   {
    "duration": 23,
    "start_time": "2023-06-10T20:59:28.303Z"
   },
   {
    "duration": 12,
    "start_time": "2023-06-10T21:01:20.384Z"
   },
   {
    "duration": 4,
    "start_time": "2023-06-10T21:04:10.525Z"
   },
   {
    "duration": 13,
    "start_time": "2023-06-10T21:10:46.768Z"
   },
   {
    "duration": 10,
    "start_time": "2023-06-10T21:12:57.459Z"
   },
   {
    "duration": 10,
    "start_time": "2023-06-10T21:13:10.647Z"
   },
   {
    "duration": 7,
    "start_time": "2023-06-10T21:14:39.585Z"
   },
   {
    "duration": 6,
    "start_time": "2023-06-10T21:15:04.185Z"
   },
   {
    "duration": 5,
    "start_time": "2023-06-10T21:15:14.474Z"
   },
   {
    "duration": 10,
    "start_time": "2023-06-10T21:15:33.308Z"
   },
   {
    "duration": 8,
    "start_time": "2023-06-10T21:17:56.414Z"
   },
   {
    "duration": 5,
    "start_time": "2023-06-10T21:20:23.767Z"
   },
   {
    "duration": 3,
    "start_time": "2023-06-10T21:21:01.805Z"
   },
   {
    "duration": 14,
    "start_time": "2023-06-10T21:21:07.007Z"
   },
   {
    "duration": 6,
    "start_time": "2023-06-10T21:23:42.953Z"
   },
   {
    "duration": 17,
    "start_time": "2023-06-10T21:23:47.640Z"
   },
   {
    "duration": 3,
    "start_time": "2023-06-10T21:24:25.199Z"
   },
   {
    "duration": 17,
    "start_time": "2023-06-10T21:24:29.519Z"
   },
   {
    "duration": 1745,
    "start_time": "2023-06-11T05:39:44.129Z"
   },
   {
    "duration": 1145,
    "start_time": "2023-06-11T05:39:45.876Z"
   },
   {
    "duration": 3,
    "start_time": "2023-06-11T05:39:47.023Z"
   },
   {
    "duration": 81,
    "start_time": "2023-06-11T05:39:47.028Z"
   },
   {
    "duration": 75,
    "start_time": "2023-06-11T05:39:47.111Z"
   },
   {
    "duration": 55,
    "start_time": "2023-06-11T05:39:47.188Z"
   },
   {
    "duration": 149,
    "start_time": "2023-06-11T05:39:47.244Z"
   },
   {
    "duration": 10,
    "start_time": "2023-06-11T05:39:47.394Z"
   },
   {
    "duration": 64,
    "start_time": "2023-06-11T05:39:47.405Z"
   },
   {
    "duration": 14,
    "start_time": "2023-06-11T05:39:47.472Z"
   },
   {
    "duration": 49,
    "start_time": "2023-06-11T05:39:47.487Z"
   },
   {
    "duration": 34,
    "start_time": "2023-06-11T05:39:47.537Z"
   },
   {
    "duration": 231,
    "start_time": "2023-06-11T05:39:47.572Z"
   },
   {
    "duration": 15,
    "start_time": "2023-06-11T05:39:47.804Z"
   },
   {
    "duration": 16,
    "start_time": "2023-06-11T05:39:47.823Z"
   },
   {
    "duration": 22,
    "start_time": "2023-06-11T05:39:47.840Z"
   },
   {
    "duration": 3,
    "start_time": "2023-06-11T05:39:47.863Z"
   },
   {
    "duration": 13,
    "start_time": "2023-06-11T05:39:47.868Z"
   },
   {
    "duration": 59,
    "start_time": "2023-06-11T05:39:47.882Z"
   },
   {
    "duration": 19,
    "start_time": "2023-06-11T05:39:47.942Z"
   },
   {
    "duration": 15,
    "start_time": "2023-06-11T05:39:47.962Z"
   },
   {
    "duration": 59,
    "start_time": "2023-06-11T05:39:47.978Z"
   },
   {
    "duration": 32,
    "start_time": "2023-06-11T05:39:48.039Z"
   },
   {
    "duration": 90,
    "start_time": "2023-06-11T05:39:48.073Z"
   },
   {
    "duration": 153,
    "start_time": "2023-06-11T05:39:48.165Z"
   },
   {
    "duration": 162,
    "start_time": "2023-06-11T05:39:48.327Z"
   },
   {
    "duration": 155,
    "start_time": "2023-06-11T05:39:48.490Z"
   },
   {
    "duration": 22,
    "start_time": "2023-06-11T05:39:48.648Z"
   },
   {
    "duration": 15,
    "start_time": "2023-06-11T05:39:48.672Z"
   },
   {
    "duration": 55,
    "start_time": "2023-06-11T05:39:48.688Z"
   },
   {
    "duration": 32,
    "start_time": "2023-06-11T05:39:48.745Z"
   },
   {
    "duration": 67,
    "start_time": "2023-06-11T05:39:48.779Z"
   },
   {
    "duration": 19,
    "start_time": "2023-06-11T05:39:48.848Z"
   },
   {
    "duration": 89,
    "start_time": "2023-06-11T05:39:48.869Z"
   },
   {
    "duration": 3,
    "start_time": "2023-06-11T05:46:33.636Z"
   },
   {
    "duration": 10,
    "start_time": "2023-06-11T05:46:35.760Z"
   },
   {
    "duration": 3,
    "start_time": "2023-06-11T05:46:37.404Z"
   },
   {
    "duration": 145,
    "start_time": "2023-06-11T05:46:39.047Z"
   },
   {
    "duration": 3,
    "start_time": "2023-06-11T05:46:53.836Z"
   },
   {
    "duration": 4,
    "start_time": "2023-06-11T05:46:56.369Z"
   },
   {
    "duration": 20,
    "start_time": "2023-06-11T05:49:09.305Z"
   },
   {
    "duration": 4,
    "start_time": "2023-06-11T05:49:11.501Z"
   },
   {
    "duration": 8,
    "start_time": "2023-06-11T05:49:14.302Z"
   },
   {
    "duration": 4,
    "start_time": "2023-06-11T05:49:36.317Z"
   },
   {
    "duration": 10,
    "start_time": "2023-06-11T05:49:40.383Z"
   },
   {
    "duration": 3,
    "start_time": "2023-06-11T05:52:33.670Z"
   },
   {
    "duration": 8,
    "start_time": "2023-06-11T05:52:35.955Z"
   },
   {
    "duration": 2,
    "start_time": "2023-06-11T05:53:29.769Z"
   },
   {
    "duration": 5,
    "start_time": "2023-06-11T05:53:31.675Z"
   },
   {
    "duration": 10,
    "start_time": "2023-06-11T05:53:54.158Z"
   },
   {
    "duration": 3,
    "start_time": "2023-06-11T05:53:58.258Z"
   },
   {
    "duration": 9,
    "start_time": "2023-06-11T05:54:01.314Z"
   },
   {
    "duration": 3,
    "start_time": "2023-06-11T05:56:17.838Z"
   },
   {
    "duration": 6,
    "start_time": "2023-06-11T05:56:20.359Z"
   },
   {
    "duration": 8,
    "start_time": "2023-06-11T06:08:15.554Z"
   },
   {
    "duration": 10,
    "start_time": "2023-06-11T06:09:08.079Z"
   },
   {
    "duration": 10,
    "start_time": "2023-06-11T06:12:04.970Z"
   },
   {
    "duration": 3,
    "start_time": "2023-06-11T06:12:08.167Z"
   },
   {
    "duration": 26,
    "start_time": "2023-06-11T06:12:11.045Z"
   },
   {
    "duration": 102,
    "start_time": "2023-06-11T06:13:42.437Z"
   },
   {
    "duration": 2,
    "start_time": "2023-06-11T06:14:08.571Z"
   },
   {
    "duration": 11,
    "start_time": "2023-06-11T06:14:11.712Z"
   },
   {
    "duration": 3,
    "start_time": "2023-06-11T06:15:00.066Z"
   },
   {
    "duration": 8,
    "start_time": "2023-06-11T06:15:02.304Z"
   },
   {
    "duration": 7,
    "start_time": "2023-06-11T06:15:31.111Z"
   },
   {
    "duration": 3,
    "start_time": "2023-06-11T06:15:43.151Z"
   },
   {
    "duration": 6,
    "start_time": "2023-06-11T06:15:45.562Z"
   },
   {
    "duration": 6,
    "start_time": "2023-06-11T06:16:29.637Z"
   },
   {
    "duration": 3,
    "start_time": "2023-06-11T06:16:32.748Z"
   },
   {
    "duration": 4,
    "start_time": "2023-06-11T06:16:37.249Z"
   },
   {
    "duration": 6,
    "start_time": "2023-06-11T06:16:45.303Z"
   },
   {
    "duration": 3,
    "start_time": "2023-06-11T06:16:47.435Z"
   },
   {
    "duration": 7,
    "start_time": "2023-06-11T06:16:49.445Z"
   },
   {
    "duration": 14,
    "start_time": "2023-06-11T06:18:32.939Z"
   },
   {
    "duration": 11,
    "start_time": "2023-06-11T06:18:51.501Z"
   },
   {
    "duration": 8,
    "start_time": "2023-06-11T06:19:09.318Z"
   },
   {
    "duration": 7,
    "start_time": "2023-06-11T06:19:12.704Z"
   },
   {
    "duration": 7,
    "start_time": "2023-06-11T06:19:41.105Z"
   },
   {
    "duration": 7,
    "start_time": "2023-06-11T06:19:44.364Z"
   },
   {
    "duration": 6,
    "start_time": "2023-06-11T06:22:23.948Z"
   },
   {
    "duration": 3,
    "start_time": "2023-06-11T06:25:14.937Z"
   },
   {
    "duration": 8,
    "start_time": "2023-06-11T06:25:17.516Z"
   },
   {
    "duration": 9,
    "start_time": "2023-06-11T06:25:27.036Z"
   },
   {
    "duration": 12,
    "start_time": "2023-06-11T06:25:37.316Z"
   },
   {
    "duration": 7,
    "start_time": "2023-06-11T06:25:45.333Z"
   },
   {
    "duration": 4,
    "start_time": "2023-06-11T06:57:54.018Z"
   },
   {
    "duration": 12,
    "start_time": "2023-06-11T07:09:39.496Z"
   },
   {
    "duration": 5,
    "start_time": "2023-06-11T07:10:40.358Z"
   },
   {
    "duration": 13,
    "start_time": "2023-06-11T07:10:48.596Z"
   },
   {
    "duration": 4,
    "start_time": "2023-06-11T07:11:06.245Z"
   },
   {
    "duration": 28,
    "start_time": "2023-06-11T07:11:08.797Z"
   },
   {
    "duration": 5,
    "start_time": "2023-06-11T07:11:25.798Z"
   },
   {
    "duration": 668,
    "start_time": "2023-06-11T07:11:28.201Z"
   },
   {
    "duration": 657,
    "start_time": "2023-06-11T07:11:39.579Z"
   },
   {
    "duration": 771,
    "start_time": "2023-06-11T07:11:45.891Z"
   },
   {
    "duration": 657,
    "start_time": "2023-06-11T07:13:11.446Z"
   },
   {
    "duration": 730,
    "start_time": "2023-06-11T07:14:01.364Z"
   },
   {
    "duration": 669,
    "start_time": "2023-06-11T07:14:19.352Z"
   },
   {
    "duration": 666,
    "start_time": "2023-06-11T07:14:42.776Z"
   },
   {
    "duration": 662,
    "start_time": "2023-06-11T07:14:44.348Z"
   },
   {
    "duration": 741,
    "start_time": "2023-06-11T07:14:45.728Z"
   },
   {
    "duration": 700,
    "start_time": "2023-06-11T07:14:47.575Z"
   },
   {
    "duration": 5,
    "start_time": "2023-06-11T07:16:51.475Z"
   },
   {
    "duration": 702,
    "start_time": "2023-06-11T07:16:55.496Z"
   },
   {
    "duration": 88,
    "start_time": "2023-06-11T07:26:13.701Z"
   },
   {
    "duration": 122,
    "start_time": "2023-06-11T07:29:11.152Z"
   },
   {
    "duration": 110,
    "start_time": "2023-06-11T07:29:18.423Z"
   },
   {
    "duration": 101,
    "start_time": "2023-06-11T07:32:05.549Z"
   },
   {
    "duration": 5,
    "start_time": "2023-06-11T07:32:11.999Z"
   },
   {
    "duration": 1082,
    "start_time": "2023-06-11T07:32:14.613Z"
   },
   {
    "duration": 6,
    "start_time": "2023-06-11T07:33:05.803Z"
   },
   {
    "duration": 1065,
    "start_time": "2023-06-11T07:33:08.240Z"
   },
   {
    "duration": 1222,
    "start_time": "2023-06-11T07:33:30.722Z"
   },
   {
    "duration": 11,
    "start_time": "2023-06-11T07:41:49.810Z"
   },
   {
    "duration": 14,
    "start_time": "2023-06-11T07:42:03.034Z"
   },
   {
    "duration": 15,
    "start_time": "2023-06-11T07:43:15.170Z"
   },
   {
    "duration": 945,
    "start_time": "2023-06-11T07:45:31.966Z"
   },
   {
    "duration": 2510,
    "start_time": "2023-06-11T07:45:41.611Z"
   },
   {
    "duration": 125,
    "start_time": "2023-06-11T07:55:58.976Z"
   },
   {
    "duration": 5,
    "start_time": "2023-06-11T07:56:59.462Z"
   },
   {
    "duration": 12,
    "start_time": "2023-06-11T07:57:15.250Z"
   },
   {
    "duration": 4,
    "start_time": "2023-06-11T08:01:23.453Z"
   },
   {
    "duration": 922,
    "start_time": "2023-06-11T08:01:26.309Z"
   },
   {
    "duration": 5,
    "start_time": "2023-06-11T08:01:35.956Z"
   },
   {
    "duration": 6,
    "start_time": "2023-06-11T08:01:40.100Z"
   },
   {
    "duration": 859,
    "start_time": "2023-06-11T08:01:48.661Z"
   },
   {
    "duration": 4,
    "start_time": "2023-06-11T08:02:01.534Z"
   },
   {
    "duration": 900,
    "start_time": "2023-06-11T08:02:06.480Z"
   },
   {
    "duration": 5,
    "start_time": "2023-06-11T08:02:15.519Z"
   },
   {
    "duration": 839,
    "start_time": "2023-06-11T08:02:19.331Z"
   },
   {
    "duration": 857,
    "start_time": "2023-06-11T08:02:26.711Z"
   },
   {
    "duration": 841,
    "start_time": "2023-06-11T08:03:13.156Z"
   },
   {
    "duration": 4,
    "start_time": "2023-06-11T08:05:59.010Z"
   },
   {
    "duration": 1110,
    "start_time": "2023-06-11T08:06:01.646Z"
   },
   {
    "duration": 5,
    "start_time": "2023-06-11T08:06:23.028Z"
   },
   {
    "duration": 899,
    "start_time": "2023-06-11T08:06:25.218Z"
   },
   {
    "duration": 3,
    "start_time": "2023-06-11T08:09:54.098Z"
   },
   {
    "duration": 5,
    "start_time": "2023-06-11T08:16:44.949Z"
   },
   {
    "duration": 12,
    "start_time": "2023-06-11T08:30:56.015Z"
   },
   {
    "duration": 11,
    "start_time": "2023-06-11T08:32:37.405Z"
   },
   {
    "duration": 13,
    "start_time": "2023-06-11T08:33:03.777Z"
   },
   {
    "duration": 10,
    "start_time": "2023-06-11T08:34:40.020Z"
   },
   {
    "duration": 12,
    "start_time": "2023-06-11T08:34:50.201Z"
   },
   {
    "duration": 10,
    "start_time": "2023-06-11T08:36:16.954Z"
   },
   {
    "duration": 11,
    "start_time": "2023-06-11T08:36:28.607Z"
   },
   {
    "duration": 93,
    "start_time": "2023-06-11T08:36:45.756Z"
   },
   {
    "duration": 99,
    "start_time": "2023-06-11T08:37:06.173Z"
   },
   {
    "duration": 93,
    "start_time": "2023-06-11T08:37:12.161Z"
   },
   {
    "duration": 101,
    "start_time": "2023-06-11T08:37:50.150Z"
   },
   {
    "duration": 10,
    "start_time": "2023-06-11T08:38:06.611Z"
   },
   {
    "duration": 4,
    "start_time": "2023-06-11T09:12:37.785Z"
   },
   {
    "duration": 449,
    "start_time": "2023-06-11T09:12:37.800Z"
   },
   {
    "duration": 3,
    "start_time": "2023-06-11T09:12:38.251Z"
   },
   {
    "duration": 69,
    "start_time": "2023-06-11T09:12:38.256Z"
   },
   {
    "duration": 44,
    "start_time": "2023-06-11T09:12:38.327Z"
   },
   {
    "duration": 75,
    "start_time": "2023-06-11T09:12:38.372Z"
   },
   {
    "duration": 139,
    "start_time": "2023-06-11T09:12:38.449Z"
   },
   {
    "duration": 11,
    "start_time": "2023-06-11T09:12:38.589Z"
   },
   {
    "duration": 51,
    "start_time": "2023-06-11T09:12:38.602Z"
   },
   {
    "duration": 7,
    "start_time": "2023-06-11T09:12:38.654Z"
   },
   {
    "duration": 18,
    "start_time": "2023-06-11T09:12:38.663Z"
   },
   {
    "duration": 23,
    "start_time": "2023-06-11T09:12:38.683Z"
   },
   {
    "duration": 193,
    "start_time": "2023-06-11T09:12:38.707Z"
   },
   {
    "duration": 13,
    "start_time": "2023-06-11T09:12:38.902Z"
   },
   {
    "duration": 4,
    "start_time": "2023-06-11T09:12:38.917Z"
   },
   {
    "duration": 15,
    "start_time": "2023-06-11T09:12:38.922Z"
   },
   {
    "duration": 9,
    "start_time": "2023-06-11T09:12:38.938Z"
   },
   {
    "duration": 26,
    "start_time": "2023-06-11T09:12:38.949Z"
   },
   {
    "duration": 11,
    "start_time": "2023-06-11T09:12:38.977Z"
   },
   {
    "duration": 42,
    "start_time": "2023-06-11T09:12:38.990Z"
   },
   {
    "duration": 20,
    "start_time": "2023-06-11T09:12:39.034Z"
   },
   {
    "duration": 20,
    "start_time": "2023-06-11T09:12:39.056Z"
   },
   {
    "duration": 17,
    "start_time": "2023-06-11T09:12:39.078Z"
   },
   {
    "duration": 120,
    "start_time": "2023-06-11T09:12:39.096Z"
   },
   {
    "duration": 103,
    "start_time": "2023-06-11T09:12:39.220Z"
   },
   {
    "duration": 199,
    "start_time": "2023-06-11T09:12:39.325Z"
   },
   {
    "duration": 180,
    "start_time": "2023-06-11T09:12:39.530Z"
   },
   {
    "duration": 41,
    "start_time": "2023-06-11T09:12:39.713Z"
   },
   {
    "duration": 20,
    "start_time": "2023-06-11T09:12:39.756Z"
   },
   {
    "duration": 39,
    "start_time": "2023-06-11T09:12:39.778Z"
   },
   {
    "duration": 27,
    "start_time": "2023-06-11T09:12:39.819Z"
   },
   {
    "duration": 21,
    "start_time": "2023-06-11T09:12:39.848Z"
   },
   {
    "duration": 62,
    "start_time": "2023-06-11T09:12:39.871Z"
   },
   {
    "duration": 53,
    "start_time": "2023-06-11T09:12:39.935Z"
   },
   {
    "duration": 43,
    "start_time": "2023-06-11T09:12:39.990Z"
   },
   {
    "duration": 29,
    "start_time": "2023-06-11T09:12:40.035Z"
   },
   {
    "duration": 46,
    "start_time": "2023-06-11T09:12:40.066Z"
   },
   {
    "duration": 1031,
    "start_time": "2023-06-11T09:12:40.115Z"
   },
   {
    "duration": 954,
    "start_time": "2023-06-11T09:12:41.148Z"
   },
   {
    "duration": 955,
    "start_time": "2023-06-11T09:12:42.104Z"
   },
   {
    "duration": 1627,
    "start_time": "2023-06-11T19:49:34.538Z"
   },
   {
    "duration": 304,
    "start_time": "2023-06-11T19:49:36.167Z"
   },
   {
    "duration": 3,
    "start_time": "2023-06-11T19:49:36.472Z"
   },
   {
    "duration": 60,
    "start_time": "2023-06-11T19:49:36.477Z"
   },
   {
    "duration": 46,
    "start_time": "2023-06-11T19:49:36.539Z"
   },
   {
    "duration": 66,
    "start_time": "2023-06-11T19:49:36.587Z"
   },
   {
    "duration": 114,
    "start_time": "2023-06-11T19:49:36.655Z"
   },
   {
    "duration": 7,
    "start_time": "2023-06-11T19:49:36.770Z"
   },
   {
    "duration": 34,
    "start_time": "2023-06-11T19:49:36.779Z"
   },
   {
    "duration": 10,
    "start_time": "2023-06-11T19:49:36.815Z"
   },
   {
    "duration": 10,
    "start_time": "2023-06-11T19:49:36.827Z"
   },
   {
    "duration": 13,
    "start_time": "2023-06-11T19:49:36.838Z"
   },
   {
    "duration": 193,
    "start_time": "2023-06-11T19:49:36.852Z"
   },
   {
    "duration": 13,
    "start_time": "2023-06-11T19:49:37.047Z"
   },
   {
    "duration": 3,
    "start_time": "2023-06-11T19:49:37.062Z"
   },
   {
    "duration": 17,
    "start_time": "2023-06-11T19:49:37.066Z"
   },
   {
    "duration": 3,
    "start_time": "2023-06-11T19:49:37.085Z"
   },
   {
    "duration": 29,
    "start_time": "2023-06-11T19:49:37.089Z"
   },
   {
    "duration": 3,
    "start_time": "2023-06-11T19:49:37.120Z"
   },
   {
    "duration": 102,
    "start_time": "2023-06-11T19:49:37.124Z"
   },
   {
    "duration": 0,
    "start_time": "2023-06-11T19:49:37.228Z"
   },
   {
    "duration": 0,
    "start_time": "2023-06-11T19:49:37.229Z"
   },
   {
    "duration": 0,
    "start_time": "2023-06-11T19:49:37.229Z"
   },
   {
    "duration": 0,
    "start_time": "2023-06-11T19:49:37.230Z"
   },
   {
    "duration": 0,
    "start_time": "2023-06-11T19:49:37.231Z"
   },
   {
    "duration": 1,
    "start_time": "2023-06-11T19:49:37.232Z"
   },
   {
    "duration": 0,
    "start_time": "2023-06-11T19:49:37.233Z"
   },
   {
    "duration": 0,
    "start_time": "2023-06-11T19:49:37.235Z"
   },
   {
    "duration": 0,
    "start_time": "2023-06-11T19:49:37.236Z"
   },
   {
    "duration": 0,
    "start_time": "2023-06-11T19:49:37.237Z"
   },
   {
    "duration": 0,
    "start_time": "2023-06-11T19:49:37.238Z"
   },
   {
    "duration": 0,
    "start_time": "2023-06-11T19:49:37.239Z"
   },
   {
    "duration": 0,
    "start_time": "2023-06-11T19:49:37.240Z"
   },
   {
    "duration": 0,
    "start_time": "2023-06-11T19:49:37.241Z"
   },
   {
    "duration": 0,
    "start_time": "2023-06-11T19:49:37.242Z"
   },
   {
    "duration": 0,
    "start_time": "2023-06-11T19:49:37.244Z"
   },
   {
    "duration": 0,
    "start_time": "2023-06-11T19:49:37.244Z"
   },
   {
    "duration": 0,
    "start_time": "2023-06-11T19:49:37.245Z"
   },
   {
    "duration": 0,
    "start_time": "2023-06-11T19:49:37.246Z"
   },
   {
    "duration": 0,
    "start_time": "2023-06-11T19:49:37.247Z"
   },
   {
    "duration": 3,
    "start_time": "2023-06-11T19:51:47.344Z"
   },
   {
    "duration": 12,
    "start_time": "2023-06-11T19:51:47.913Z"
   },
   {
    "duration": 1821,
    "start_time": "2023-06-11T19:51:54.113Z"
   },
   {
    "duration": 324,
    "start_time": "2023-06-11T19:51:55.936Z"
   },
   {
    "duration": 3,
    "start_time": "2023-06-11T19:51:56.262Z"
   },
   {
    "duration": 57,
    "start_time": "2023-06-11T19:51:56.267Z"
   },
   {
    "duration": 46,
    "start_time": "2023-06-11T19:51:56.325Z"
   },
   {
    "duration": 63,
    "start_time": "2023-06-11T19:51:56.373Z"
   },
   {
    "duration": 110,
    "start_time": "2023-06-11T19:51:56.438Z"
   },
   {
    "duration": 7,
    "start_time": "2023-06-11T19:51:56.550Z"
   },
   {
    "duration": 38,
    "start_time": "2023-06-11T19:51:56.559Z"
   },
   {
    "duration": 13,
    "start_time": "2023-06-11T19:51:56.599Z"
   },
   {
    "duration": 11,
    "start_time": "2023-06-11T19:51:56.614Z"
   },
   {
    "duration": 8,
    "start_time": "2023-06-11T19:51:56.627Z"
   },
   {
    "duration": 228,
    "start_time": "2023-06-11T19:51:56.637Z"
   },
   {
    "duration": 14,
    "start_time": "2023-06-11T19:51:56.866Z"
   },
   {
    "duration": 3,
    "start_time": "2023-06-11T19:51:56.882Z"
   },
   {
    "duration": 28,
    "start_time": "2023-06-11T19:51:56.887Z"
   },
   {
    "duration": 15,
    "start_time": "2023-06-11T19:51:56.917Z"
   },
   {
    "duration": 17,
    "start_time": "2023-06-11T19:51:56.933Z"
   },
   {
    "duration": 3,
    "start_time": "2023-06-11T19:51:56.952Z"
   },
   {
    "duration": 8,
    "start_time": "2023-06-11T19:51:56.956Z"
   },
   {
    "duration": 13,
    "start_time": "2023-06-11T19:51:56.965Z"
   },
   {
    "duration": 14,
    "start_time": "2023-06-11T19:51:56.979Z"
   },
   {
    "duration": 24,
    "start_time": "2023-06-11T19:51:56.994Z"
   },
   {
    "duration": 19,
    "start_time": "2023-06-11T19:51:57.020Z"
   },
   {
    "duration": 70,
    "start_time": "2023-06-11T19:51:57.040Z"
   },
   {
    "duration": 98,
    "start_time": "2023-06-11T19:51:57.111Z"
   },
   {
    "duration": 100,
    "start_time": "2023-06-11T19:51:57.210Z"
   },
   {
    "duration": 193,
    "start_time": "2023-06-11T19:51:57.314Z"
   },
   {
    "duration": 2,
    "start_time": "2023-06-11T19:51:57.509Z"
   },
   {
    "duration": 24,
    "start_time": "2023-06-11T19:51:57.512Z"
   },
   {
    "duration": 18,
    "start_time": "2023-06-11T19:51:57.538Z"
   },
   {
    "duration": 15,
    "start_time": "2023-06-11T19:51:57.558Z"
   },
   {
    "duration": 26,
    "start_time": "2023-06-11T19:51:57.574Z"
   },
   {
    "duration": 16,
    "start_time": "2023-06-11T19:51:57.602Z"
   },
   {
    "duration": 23,
    "start_time": "2023-06-11T19:51:57.619Z"
   },
   {
    "duration": 6,
    "start_time": "2023-06-11T19:51:57.644Z"
   },
   {
    "duration": 91,
    "start_time": "2023-06-11T19:51:57.652Z"
   },
   {
    "duration": 0,
    "start_time": "2023-06-11T19:51:57.745Z"
   },
   {
    "duration": 0,
    "start_time": "2023-06-11T19:51:57.746Z"
   },
   {
    "duration": 0,
    "start_time": "2023-06-11T19:51:57.746Z"
   },
   {
    "duration": 0,
    "start_time": "2023-06-11T19:51:57.748Z"
   },
   {
    "duration": 7,
    "start_time": "2023-06-11T19:52:45.940Z"
   },
   {
    "duration": 5,
    "start_time": "2023-06-11T19:52:48.282Z"
   },
   {
    "duration": 9,
    "start_time": "2023-06-11T19:52:48.663Z"
   },
   {
    "duration": 11,
    "start_time": "2023-06-11T19:52:49.132Z"
   },
   {
    "duration": 8,
    "start_time": "2023-06-11T19:52:58.166Z"
   },
   {
    "duration": 1654,
    "start_time": "2023-06-12T06:29:05.489Z"
   },
   {
    "duration": 1605,
    "start_time": "2023-06-12T06:29:07.146Z"
   },
   {
    "duration": 3,
    "start_time": "2023-06-12T06:29:08.753Z"
   },
   {
    "duration": 85,
    "start_time": "2023-06-12T06:29:08.759Z"
   },
   {
    "duration": 71,
    "start_time": "2023-06-12T06:29:08.858Z"
   },
   {
    "duration": 72,
    "start_time": "2023-06-12T06:29:08.931Z"
   },
   {
    "duration": 144,
    "start_time": "2023-06-12T06:29:09.005Z"
   },
   {
    "duration": 11,
    "start_time": "2023-06-12T06:29:09.156Z"
   },
   {
    "duration": 33,
    "start_time": "2023-06-12T06:29:09.169Z"
   },
   {
    "duration": 11,
    "start_time": "2023-06-12T06:29:09.204Z"
   },
   {
    "duration": 14,
    "start_time": "2023-06-12T06:29:09.217Z"
   },
   {
    "duration": 11,
    "start_time": "2023-06-12T06:29:09.257Z"
   },
   {
    "duration": 252,
    "start_time": "2023-06-12T06:29:09.270Z"
   },
   {
    "duration": 29,
    "start_time": "2023-06-12T06:29:09.527Z"
   },
   {
    "duration": 5,
    "start_time": "2023-06-12T06:29:09.558Z"
   },
   {
    "duration": 21,
    "start_time": "2023-06-12T06:29:09.565Z"
   },
   {
    "duration": 4,
    "start_time": "2023-06-12T06:29:09.588Z"
   },
   {
    "duration": 20,
    "start_time": "2023-06-12T06:29:09.594Z"
   },
   {
    "duration": 5,
    "start_time": "2023-06-12T06:29:09.616Z"
   },
   {
    "duration": 9,
    "start_time": "2023-06-12T06:29:09.622Z"
   },
   {
    "duration": 39,
    "start_time": "2023-06-12T06:29:09.633Z"
   },
   {
    "duration": 36,
    "start_time": "2023-06-12T06:29:09.673Z"
   },
   {
    "duration": 42,
    "start_time": "2023-06-12T06:29:09.711Z"
   },
   {
    "duration": 27,
    "start_time": "2023-06-12T06:29:09.756Z"
   },
   {
    "duration": 76,
    "start_time": "2023-06-12T06:29:09.784Z"
   },
   {
    "duration": 107,
    "start_time": "2023-06-12T06:29:09.861Z"
   },
   {
    "duration": 185,
    "start_time": "2023-06-12T06:29:09.974Z"
   },
   {
    "duration": 112,
    "start_time": "2023-06-12T06:29:10.162Z"
   },
   {
    "duration": 3,
    "start_time": "2023-06-12T06:29:10.275Z"
   },
   {
    "duration": 78,
    "start_time": "2023-06-12T06:29:10.280Z"
   },
   {
    "duration": 4,
    "start_time": "2023-06-12T06:29:10.359Z"
   },
   {
    "duration": 12,
    "start_time": "2023-06-12T06:29:10.364Z"
   },
   {
    "duration": 28,
    "start_time": "2023-06-12T06:29:10.378Z"
   },
   {
    "duration": 5,
    "start_time": "2023-06-12T06:29:10.408Z"
   },
   {
    "duration": 11,
    "start_time": "2023-06-12T06:29:10.415Z"
   },
   {
    "duration": 9,
    "start_time": "2023-06-12T06:29:10.429Z"
   },
   {
    "duration": 21,
    "start_time": "2023-06-12T06:29:10.440Z"
   },
   {
    "duration": 6,
    "start_time": "2023-06-12T06:29:10.463Z"
   },
   {
    "duration": 1113,
    "start_time": "2023-06-12T06:29:10.471Z"
   },
   {
    "duration": 1108,
    "start_time": "2023-06-12T06:29:11.586Z"
   },
   {
    "duration": 1116,
    "start_time": "2023-06-12T06:29:12.698Z"
   },
   {
    "duration": 4,
    "start_time": "2023-06-12T06:57:54.834Z"
   },
   {
    "duration": 439,
    "start_time": "2023-06-12T06:57:54.841Z"
   },
   {
    "duration": 4,
    "start_time": "2023-06-12T06:57:55.282Z"
   },
   {
    "duration": 74,
    "start_time": "2023-06-12T06:57:55.288Z"
   },
   {
    "duration": 55,
    "start_time": "2023-06-12T06:57:55.368Z"
   },
   {
    "duration": 76,
    "start_time": "2023-06-12T06:57:55.425Z"
   },
   {
    "duration": 142,
    "start_time": "2023-06-12T06:57:55.503Z"
   },
   {
    "duration": 24,
    "start_time": "2023-06-12T06:57:55.647Z"
   },
   {
    "duration": 25,
    "start_time": "2023-06-12T06:57:55.673Z"
   },
   {
    "duration": 10,
    "start_time": "2023-06-12T06:57:55.700Z"
   },
   {
    "duration": 14,
    "start_time": "2023-06-12T06:57:55.712Z"
   },
   {
    "duration": 48,
    "start_time": "2023-06-12T06:57:55.728Z"
   },
   {
    "duration": 217,
    "start_time": "2023-06-12T06:57:55.777Z"
   },
   {
    "duration": 14,
    "start_time": "2023-06-12T06:57:55.997Z"
   },
   {
    "duration": 3,
    "start_time": "2023-06-12T06:57:56.013Z"
   },
   {
    "duration": 29,
    "start_time": "2023-06-12T06:57:56.018Z"
   },
   {
    "duration": 10,
    "start_time": "2023-06-12T06:57:56.056Z"
   },
   {
    "duration": 16,
    "start_time": "2023-06-12T06:57:56.070Z"
   },
   {
    "duration": 4,
    "start_time": "2023-06-12T06:57:56.088Z"
   },
   {
    "duration": 3,
    "start_time": "2023-06-12T06:57:56.093Z"
   },
   {
    "duration": 13,
    "start_time": "2023-06-12T06:57:56.098Z"
   },
   {
    "duration": 47,
    "start_time": "2023-06-12T06:57:56.113Z"
   },
   {
    "duration": 18,
    "start_time": "2023-06-12T06:57:56.168Z"
   },
   {
    "duration": 23,
    "start_time": "2023-06-12T06:57:56.188Z"
   },
   {
    "duration": 50,
    "start_time": "2023-06-12T06:57:56.213Z"
   },
   {
    "duration": 101,
    "start_time": "2023-06-12T06:57:56.278Z"
   },
   {
    "duration": 181,
    "start_time": "2023-06-12T06:57:56.381Z"
   },
   {
    "duration": 106,
    "start_time": "2023-06-12T06:57:56.564Z"
   },
   {
    "duration": 4,
    "start_time": "2023-06-12T06:57:56.673Z"
   },
   {
    "duration": 12,
    "start_time": "2023-06-12T06:57:56.679Z"
   },
   {
    "duration": 6,
    "start_time": "2023-06-12T06:57:56.693Z"
   },
   {
    "duration": 4,
    "start_time": "2023-06-12T06:57:56.701Z"
   },
   {
    "duration": 6,
    "start_time": "2023-06-12T06:57:56.707Z"
   },
   {
    "duration": 5,
    "start_time": "2023-06-12T06:57:56.715Z"
   },
   {
    "duration": 46,
    "start_time": "2023-06-12T06:57:56.721Z"
   },
   {
    "duration": 9,
    "start_time": "2023-06-12T06:57:56.770Z"
   },
   {
    "duration": 9,
    "start_time": "2023-06-12T06:57:56.780Z"
   },
   {
    "duration": 5,
    "start_time": "2023-06-12T06:57:56.791Z"
   },
   {
    "duration": 1235,
    "start_time": "2023-06-12T06:57:56.798Z"
   },
   {
    "duration": 1329,
    "start_time": "2023-06-12T06:57:58.035Z"
   },
   {
    "duration": 1206,
    "start_time": "2023-06-12T06:57:59.370Z"
   },
   {
    "duration": 4853,
    "start_time": "2023-06-12T19:36:25.552Z"
   },
   {
    "duration": 1842,
    "start_time": "2023-06-12T19:36:37.072Z"
   },
   {
    "duration": 921,
    "start_time": "2023-06-12T19:36:38.916Z"
   },
   {
    "duration": 3,
    "start_time": "2023-06-12T19:36:39.839Z"
   },
   {
    "duration": 61,
    "start_time": "2023-06-12T19:36:39.844Z"
   },
   {
    "duration": 52,
    "start_time": "2023-06-12T19:36:39.906Z"
   },
   {
    "duration": 56,
    "start_time": "2023-06-12T19:36:39.959Z"
   },
   {
    "duration": 132,
    "start_time": "2023-06-12T19:36:40.016Z"
   },
   {
    "duration": 8,
    "start_time": "2023-06-12T19:36:40.150Z"
   },
   {
    "duration": 37,
    "start_time": "2023-06-12T19:36:40.160Z"
   },
   {
    "duration": 9,
    "start_time": "2023-06-12T19:36:40.200Z"
   },
   {
    "duration": 13,
    "start_time": "2023-06-12T19:36:40.211Z"
   },
   {
    "duration": 9,
    "start_time": "2023-06-12T19:36:40.226Z"
   },
   {
    "duration": 249,
    "start_time": "2023-06-12T19:36:40.236Z"
   },
   {
    "duration": 16,
    "start_time": "2023-06-12T19:36:40.487Z"
   },
   {
    "duration": 10,
    "start_time": "2023-06-12T19:36:40.505Z"
   },
   {
    "duration": 19,
    "start_time": "2023-06-12T19:36:40.517Z"
   },
   {
    "duration": 4,
    "start_time": "2023-06-12T19:36:40.538Z"
   },
   {
    "duration": 41,
    "start_time": "2023-06-12T19:36:40.545Z"
   },
   {
    "duration": 14,
    "start_time": "2023-06-12T19:36:40.588Z"
   },
   {
    "duration": 13,
    "start_time": "2023-06-12T19:36:40.603Z"
   },
   {
    "duration": 29,
    "start_time": "2023-06-12T19:36:40.617Z"
   },
   {
    "duration": 41,
    "start_time": "2023-06-12T19:36:40.647Z"
   },
   {
    "duration": 29,
    "start_time": "2023-06-12T19:36:40.690Z"
   },
   {
    "duration": 24,
    "start_time": "2023-06-12T19:36:40.721Z"
   },
   {
    "duration": 33,
    "start_time": "2023-06-12T19:36:40.747Z"
   },
   {
    "duration": 208,
    "start_time": "2023-06-12T19:36:40.781Z"
   },
   {
    "duration": 191,
    "start_time": "2023-06-12T19:36:40.993Z"
   },
   {
    "duration": 200,
    "start_time": "2023-06-12T19:36:41.190Z"
   },
   {
    "duration": 25,
    "start_time": "2023-06-12T19:36:41.392Z"
   },
   {
    "duration": 24,
    "start_time": "2023-06-12T19:36:41.418Z"
   },
   {
    "duration": 4,
    "start_time": "2023-06-12T19:36:41.444Z"
   },
   {
    "duration": 6,
    "start_time": "2023-06-12T19:36:41.449Z"
   },
   {
    "duration": 7,
    "start_time": "2023-06-12T19:36:41.456Z"
   },
   {
    "duration": 15,
    "start_time": "2023-06-12T19:36:41.464Z"
   },
   {
    "duration": 10,
    "start_time": "2023-06-12T19:36:41.480Z"
   },
   {
    "duration": 19,
    "start_time": "2023-06-12T19:36:41.491Z"
   },
   {
    "duration": 7,
    "start_time": "2023-06-12T19:36:41.512Z"
   },
   {
    "duration": 4,
    "start_time": "2023-06-12T19:36:41.521Z"
   },
   {
    "duration": 1098,
    "start_time": "2023-06-12T19:36:41.526Z"
   },
   {
    "duration": 1080,
    "start_time": "2023-06-12T19:36:42.626Z"
   },
   {
    "duration": 1066,
    "start_time": "2023-06-12T19:36:43.708Z"
   },
   {
    "duration": 1786,
    "start_time": "2023-06-12T19:36:44.776Z"
   }
  ],
  "kernelspec": {
   "display_name": "Python 3 (ipykernel)",
   "language": "python",
   "name": "python3"
  },
  "language_info": {
   "codemirror_mode": {
    "name": "ipython",
    "version": 3
   },
   "file_extension": ".py",
   "mimetype": "text/x-python",
   "name": "python",
   "nbconvert_exporter": "python",
   "pygments_lexer": "ipython3",
   "version": "3.9.5"
  },
  "toc": {
   "base_numbering": 1,
   "nav_menu": {},
   "number_sections": true,
   "sideBar": true,
   "skip_h1_title": true,
   "title_cell": "Table of Contents",
   "title_sidebar": "Contents",
   "toc_cell": false,
   "toc_position": {},
   "toc_section_display": true,
   "toc_window_display": false
  }
 },
 "nbformat": 4,
 "nbformat_minor": 2
}
